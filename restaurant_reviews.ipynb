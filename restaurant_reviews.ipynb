{
  "cells": [
    {
      "cell_type": "markdown",
      "metadata": {
        "id": "view-in-github"
      },
      "source": [
        "<a href=\"https://colab.research.google.com/github/divyansh1195/Natural-Language-Processing/blob/master/Restaurant%20Reviews/restaurant_reviews_stem_bow.ipynb\" target=\"_parent\"><img src=\"https://colab.research.google.com/assets/colab-badge.svg\" alt=\"Open In Colab\"/></a>"
      ]
    },
    {
      "cell_type": "markdown",
      "metadata": {
        "id": "9qbDA2kQAXjp"
      },
      "source": [
        "# Importing the Libraries and reading the tsv data and fetched resturant file"
      ]
    },
    {
      "cell_type": "code",
      "execution_count": 1,
      "metadata": {
        "id": "jtLpIe_Q10A2"
      },
      "outputs": [],
      "source": [
        "import numpy as np\n",
        "import matplotlib.pyplot as plt\n",
        "import pandas as pd\n",
        "from sklearn.model_selection import cross_val_score\n",
        "from sklearn.naive_bayes import GaussianNB\n",
        "from sklearn.linear_model import LogisticRegression\n",
        "from sklearn import tree\n",
        "from sklearn.ensemble import RandomForestClassifier\n",
        "from sklearn.svm import SVC\n",
        "from sklearn.tree import DecisionTreeClassifier\n",
        "from sklearn.ensemble import VotingClassifier\n",
        "from sklearn.model_selection import StratifiedKFold\n",
        "kfold = StratifiedKFold(n_splits=12)\n",
        "from sklearn import metrics\n",
        "from sklearn.metrics import confusion_matrix\n",
        "from sklearn.metrics import classification_report\n",
        "from sklearn.metrics import accuracy_score\n",
        "from sklearn.metrics import precision_score\n",
        "from sklearn.metrics import recall_score"
      ]
    },
    {
      "cell_type": "code",
      "execution_count": 2,
      "metadata": {
        "colab": {
          "base_uri": "https://localhost:8080/",
          "height": 424
        },
        "id": "SYWww8G28uK-",
        "outputId": "ebb8ef6f-a2ec-4d86-ac4f-4ca805a32eda"
      },
      "outputs": [
        {
          "output_type": "execute_result",
          "data": {
            "text/plain": [
              "                                                 Review  Liked\n",
              "0                              Wow... Loved this place.      1\n",
              "1                                    Crust is not good.      0\n",
              "2             Not tasty and the texture was just nasty.      0\n",
              "3     Stopped by during the late May bank holiday of...      1\n",
              "4     The selection on the menu was great and so wer...      1\n",
              "...                                                 ...    ...\n",
              "1395  A wonderful dinner. The maÃ®tre de was excepti...      1\n",
              "1396  Food was great, staff were attentive. It was v...      1\n",
              "1397  Great food and wine, great service. Highly rec...      1\n",
              "1398  Beautiful food , wines and a stunning view! Lo...      1\n",
              "1399  Amazing food and service and wine!! 100% recom...      1\n",
              "\n",
              "[1400 rows x 2 columns]"
            ],
            "text/html": [
              "\n",
              "  <div id=\"df-e808185d-3042-41b2-8030-6715bb0c6f30\">\n",
              "    <div class=\"colab-df-container\">\n",
              "      <div>\n",
              "<style scoped>\n",
              "    .dataframe tbody tr th:only-of-type {\n",
              "        vertical-align: middle;\n",
              "    }\n",
              "\n",
              "    .dataframe tbody tr th {\n",
              "        vertical-align: top;\n",
              "    }\n",
              "\n",
              "    .dataframe thead th {\n",
              "        text-align: right;\n",
              "    }\n",
              "</style>\n",
              "<table border=\"1\" class=\"dataframe\">\n",
              "  <thead>\n",
              "    <tr style=\"text-align: right;\">\n",
              "      <th></th>\n",
              "      <th>Review</th>\n",
              "      <th>Liked</th>\n",
              "    </tr>\n",
              "  </thead>\n",
              "  <tbody>\n",
              "    <tr>\n",
              "      <th>0</th>\n",
              "      <td>Wow... Loved this place.</td>\n",
              "      <td>1</td>\n",
              "    </tr>\n",
              "    <tr>\n",
              "      <th>1</th>\n",
              "      <td>Crust is not good.</td>\n",
              "      <td>0</td>\n",
              "    </tr>\n",
              "    <tr>\n",
              "      <th>2</th>\n",
              "      <td>Not tasty and the texture was just nasty.</td>\n",
              "      <td>0</td>\n",
              "    </tr>\n",
              "    <tr>\n",
              "      <th>3</th>\n",
              "      <td>Stopped by during the late May bank holiday of...</td>\n",
              "      <td>1</td>\n",
              "    </tr>\n",
              "    <tr>\n",
              "      <th>4</th>\n",
              "      <td>The selection on the menu was great and so wer...</td>\n",
              "      <td>1</td>\n",
              "    </tr>\n",
              "    <tr>\n",
              "      <th>...</th>\n",
              "      <td>...</td>\n",
              "      <td>...</td>\n",
              "    </tr>\n",
              "    <tr>\n",
              "      <th>1395</th>\n",
              "      <td>A wonderful dinner. The maÃ®tre de was excepti...</td>\n",
              "      <td>1</td>\n",
              "    </tr>\n",
              "    <tr>\n",
              "      <th>1396</th>\n",
              "      <td>Food was great, staff were attentive. It was v...</td>\n",
              "      <td>1</td>\n",
              "    </tr>\n",
              "    <tr>\n",
              "      <th>1397</th>\n",
              "      <td>Great food and wine, great service. Highly rec...</td>\n",
              "      <td>1</td>\n",
              "    </tr>\n",
              "    <tr>\n",
              "      <th>1398</th>\n",
              "      <td>Beautiful food , wines and a stunning view! Lo...</td>\n",
              "      <td>1</td>\n",
              "    </tr>\n",
              "    <tr>\n",
              "      <th>1399</th>\n",
              "      <td>Amazing food and service and wine!! 100% recom...</td>\n",
              "      <td>1</td>\n",
              "    </tr>\n",
              "  </tbody>\n",
              "</table>\n",
              "<p>1400 rows × 2 columns</p>\n",
              "</div>\n",
              "      <button class=\"colab-df-convert\" onclick=\"convertToInteractive('df-e808185d-3042-41b2-8030-6715bb0c6f30')\"\n",
              "              title=\"Convert this dataframe to an interactive table.\"\n",
              "              style=\"display:none;\">\n",
              "        \n",
              "  <svg xmlns=\"http://www.w3.org/2000/svg\" height=\"24px\"viewBox=\"0 0 24 24\"\n",
              "       width=\"24px\">\n",
              "    <path d=\"M0 0h24v24H0V0z\" fill=\"none\"/>\n",
              "    <path d=\"M18.56 5.44l.94 2.06.94-2.06 2.06-.94-2.06-.94-.94-2.06-.94 2.06-2.06.94zm-11 1L8.5 8.5l.94-2.06 2.06-.94-2.06-.94L8.5 2.5l-.94 2.06-2.06.94zm10 10l.94 2.06.94-2.06 2.06-.94-2.06-.94-.94-2.06-.94 2.06-2.06.94z\"/><path d=\"M17.41 7.96l-1.37-1.37c-.4-.4-.92-.59-1.43-.59-.52 0-1.04.2-1.43.59L10.3 9.45l-7.72 7.72c-.78.78-.78 2.05 0 2.83L4 21.41c.39.39.9.59 1.41.59.51 0 1.02-.2 1.41-.59l7.78-7.78 2.81-2.81c.8-.78.8-2.07 0-2.86zM5.41 20L4 18.59l7.72-7.72 1.47 1.35L5.41 20z\"/>\n",
              "  </svg>\n",
              "      </button>\n",
              "      \n",
              "  <style>\n",
              "    .colab-df-container {\n",
              "      display:flex;\n",
              "      flex-wrap:wrap;\n",
              "      gap: 12px;\n",
              "    }\n",
              "\n",
              "    .colab-df-convert {\n",
              "      background-color: #E8F0FE;\n",
              "      border: none;\n",
              "      border-radius: 50%;\n",
              "      cursor: pointer;\n",
              "      display: none;\n",
              "      fill: #1967D2;\n",
              "      height: 32px;\n",
              "      padding: 0 0 0 0;\n",
              "      width: 32px;\n",
              "    }\n",
              "\n",
              "    .colab-df-convert:hover {\n",
              "      background-color: #E2EBFA;\n",
              "      box-shadow: 0px 1px 2px rgba(60, 64, 67, 0.3), 0px 1px 3px 1px rgba(60, 64, 67, 0.15);\n",
              "      fill: #174EA6;\n",
              "    }\n",
              "\n",
              "    [theme=dark] .colab-df-convert {\n",
              "      background-color: #3B4455;\n",
              "      fill: #D2E3FC;\n",
              "    }\n",
              "\n",
              "    [theme=dark] .colab-df-convert:hover {\n",
              "      background-color: #434B5C;\n",
              "      box-shadow: 0px 1px 3px 1px rgba(0, 0, 0, 0.15);\n",
              "      filter: drop-shadow(0px 1px 2px rgba(0, 0, 0, 0.3));\n",
              "      fill: #FFFFFF;\n",
              "    }\n",
              "  </style>\n",
              "\n",
              "      <script>\n",
              "        const buttonEl =\n",
              "          document.querySelector('#df-e808185d-3042-41b2-8030-6715bb0c6f30 button.colab-df-convert');\n",
              "        buttonEl.style.display =\n",
              "          google.colab.kernel.accessAllowed ? 'block' : 'none';\n",
              "\n",
              "        async function convertToInteractive(key) {\n",
              "          const element = document.querySelector('#df-e808185d-3042-41b2-8030-6715bb0c6f30');\n",
              "          const dataTable =\n",
              "            await google.colab.kernel.invokeFunction('convertToInteractive',\n",
              "                                                     [key], {});\n",
              "          if (!dataTable) return;\n",
              "\n",
              "          const docLinkHtml = 'Like what you see? Visit the ' +\n",
              "            '<a target=\"_blank\" href=https://colab.research.google.com/notebooks/data_table.ipynb>data table notebook</a>'\n",
              "            + ' to learn more about interactive tables.';\n",
              "          element.innerHTML = '';\n",
              "          dataTable['output_type'] = 'display_data';\n",
              "          await google.colab.output.renderOutput(dataTable, element);\n",
              "          const docLink = document.createElement('div');\n",
              "          docLink.innerHTML = docLinkHtml;\n",
              "          element.appendChild(docLink);\n",
              "        }\n",
              "      </script>\n",
              "    </div>\n",
              "  </div>\n",
              "  "
            ]
          },
          "metadata": {},
          "execution_count": 2
        }
      ],
      "source": [
        "df=pd.read_csv('Restaurant_Reviews.tsv', delimiter = '\\t', quoting = 3) \n",
        "df1=pd.read_csv(\"fetched_resturant_file.csv\")\n",
        "\n",
        "frames = [df, df1]\n",
        "\n",
        "data = pd.concat(frames)\n",
        "data = data.reset_index(drop=True)\n",
        "data"
      ]
    },
    {
      "cell_type": "code",
      "source": [
        "data.info()"
      ],
      "metadata": {
        "colab": {
          "base_uri": "https://localhost:8080/"
        },
        "id": "gM2HnCEi3lEK",
        "outputId": "38539196-c4b4-4503-e806-1f61baf910e8"
      },
      "execution_count": 3,
      "outputs": [
        {
          "output_type": "stream",
          "name": "stdout",
          "text": [
            "<class 'pandas.core.frame.DataFrame'>\n",
            "RangeIndex: 1400 entries, 0 to 1399\n",
            "Data columns (total 2 columns):\n",
            " #   Column  Non-Null Count  Dtype \n",
            "---  ------  --------------  ----- \n",
            " 0   Review  1400 non-null   object\n",
            " 1   Liked   1400 non-null   int64 \n",
            "dtypes: int64(1), object(1)\n",
            "memory usage: 22.0+ KB\n"
          ]
        }
      ]
    },
    {
      "cell_type": "code",
      "source": [
        "data['Liked'].unique()"
      ],
      "metadata": {
        "colab": {
          "base_uri": "https://localhost:8080/"
        },
        "id": "zlbUTohB3Y3q",
        "outputId": "4e53c5e7-e5be-414f-a362-4209c20622ee"
      },
      "execution_count": 4,
      "outputs": [
        {
          "output_type": "execute_result",
          "data": {
            "text/plain": [
              "array([1, 0])"
            ]
          },
          "metadata": {},
          "execution_count": 4
        }
      ]
    },
    {
      "cell_type": "code",
      "execution_count": 5,
      "metadata": {
        "colab": {
          "base_uri": "https://localhost:8080/",
          "height": 279
        },
        "id": "zRbJiIMe1xEI",
        "outputId": "4da3b6b3-605a-433f-a1f5-eaaba25b50d0"
      },
      "outputs": [
        {
          "output_type": "display_data",
          "data": {
            "text/plain": [
              "<Figure size 432x288 with 1 Axes>"
            ],
            "image/png": "[encoded data removed]"
          },
          "metadata": {
            "needs_background": "light"
          }
        }
      ],
      "source": [
        "import seaborn as sns\n",
        "sns.countplot(x='Liked', data=data)\n",
        "plt.show()"
      ]
    },
    {
      "cell_type": "code",
      "execution_count": 6,
      "metadata": {
        "colab": {
          "base_uri": "https://localhost:8080/"
        },
        "id": "yTpimFAo1xEM",
        "outputId": "0de664e3-d41b-4809-cfe0-d3dc7563f64c"
      },
      "outputs": [
        {
          "output_type": "execute_result",
          "data": {
            "text/plain": [
              "(867, 533)"
            ]
          },
          "metadata": {},
          "execution_count": 6
        }
      ],
      "source": [
        "good_reviews_count = len(data.loc[data['Liked'] == 1])\n",
        "bad_reviews_count=len(data.loc[data['Liked']==0])\n",
        "(good_reviews_count, bad_reviews_count)"
      ]
    },
    {
      "cell_type": "markdown",
      "metadata": {
        "id": "BGMdZ6zu1xEP"
      },
      "source": [
        "**So, the dataset is a balanced dataset. The number of '1's and '0's are equal.**"
      ]
    },
    {
      "cell_type": "markdown",
      "metadata": {
        "id": "v1lvbRX3Achn"
      },
      "source": [
        "# Data Cleaning"
      ]
    },
    {
      "cell_type": "code",
      "execution_count": 7,
      "metadata": {
        "colab": {
          "base_uri": "https://localhost:8080/"
        },
        "id": "N9jQB4T5ABMB",
        "outputId": "8758ac69-e7f3-408a-94ee-ffeef362e64c"
      },
      "outputs": [
        {
          "output_type": "stream",
          "name": "stderr",
          "text": [
            "[nltk_data] Downloading package stopwords to /root/nltk_data...\n",
            "[nltk_data]   Package stopwords is already up-to-date!\n",
            "[nltk_data] Downloading package wordnet to /root/nltk_data...\n",
            "[nltk_data]   Package wordnet is already up-to-date!\n"
          ]
        }
      ],
      "source": [
        "#Data Cleaning\n",
        "# Cleaning the Text\n",
        "import nltk\n",
        "import re\n",
        "nltk.download('stopwords')\n",
        "nltk.download('wordnet')\n",
        "from nltk.corpus import stopwords\n",
        "from nltk.stem.porter import PorterStemmer\n",
        "from nltk.stem import WordNetLemmatizer\n",
        "\n",
        "stemmer = PorterStemmer()\n",
        "lemmatizer = WordNetLemmatizer()"
      ]
    },
    {
      "cell_type": "code",
      "execution_count": 8,
      "metadata": {
        "colab": {
          "base_uri": "https://localhost:8080/"
        },
        "id": "FE2sSbflARrr",
        "outputId": "518c7db6-3e66-4cd2-f5eb-62ed33758369"
      },
      "outputs": [
        {
          "output_type": "stream",
          "name": "stdout",
          "text": [
            "['wow love place', 'crust not good', 'not tasti textur nasti', 'stop late may bank holiday rick steve recommend love', 'select menu great price', 'get angri want damn pho', 'honeslti tast fresh', 'potato like rubber could tell made ahead time kept warmer', 'fri great', 'great touch', 'servic prompt', 'would not go back', 'cashier care ever say still end wayyy overpr', 'tri cape cod ravoli chicken cranberri mmmm', 'disgust pretti sure human hair', 'shock sign indic cash', 'highli recommend', 'waitress littl slow servic', 'place not worth time let alon vega', 'not like', 'burritto blah', 'food amaz', 'servic also cute', 'could care less interior beauti', 'perform', 'right red velvet cake ohhh stuff good', 'never brought salad ask', 'hole wall great mexican street taco friendli staff', 'took hour get food tabl restaur food luke warm sever run around like total overwhelm', 'worst salmon sashimi', 'also combo like burger fri beer decent deal', 'like final blow', 'found place accid could not happier', 'seem like good quick place grab bite familiar pub food favor look elsewher', 'overal like place lot', 'redeem qualiti restaur inexpens', 'ampl portion good price', 'poor servic waiter made feel like stupid everi time came tabl', 'first visit hiro delight', 'servic suck', 'shrimp tender moist', 'not deal good enough would drag establish', 'hard judg whether side good gross melt styrofoam want eat fear get sick', 'posit note server attent provid great servic', 'frozen puck disgust worst peopl behind regist', 'thing like prime rib dessert section', 'bad food damn gener', 'burger good beef cook right', 'want sandwich go firehous', 'side greek salad greek dress tasti pita hummu refresh', 'order duck rare pink tender insid nice char outsid', 'came run us realiz husband left sunglass tabl', 'chow mein good', 'horribl attitud toward custom talk one custom enjoy food', 'portion huge', 'love friendli server great food wonder imagin menu', 'heart attack grill downtown vega absolut flat line excus restaur', 'not much seafood like string pasta bottom', 'salad right amount sauc not power scallop perfectli cook', 'rip banana not rip petrifi tasteless', 'least think refil water struggl wave minut', 'place receiv star appet', 'cocktail handmad delici', 'definit go back', 'glad found place', 'great food servic huge portion give militari discount', 'alway great time do gringo', 'updat went back second time still amaz', 'got food appar never heard salt batter fish chewi', 'great way finish great', 'deal includ tast drink jeff went beyond expect', 'realli realli good rice time', 'servic meh', 'took min get milkshak noth chocol milk', 'guess known place would suck insid excalibur use common sens', 'scallop dish quit appal valu well', 'time bad custom servic', 'sweet potato fri good season well', 'today second time lunch buffet pretti good', 'much good food vega feel cheat wast eat opportun go rice compani', 'come like experienc underwhelm relationship parti wait person ask break', 'walk place smell like old greas trap other eat', 'turkey roast beef bland', 'place', 'pan cake everyon rave tast like sugari disast tailor palat six year old', 'love pho spring roll oh yummi tri', 'poor batter meat ratio made chicken tender unsatisfi', 'say food amaz', 'omelet die', 'everyth fresh delici', 'summari larg disappoint dine experi', 'like realli sexi parti mouth outrag flirt hottest person parti', 'never hard rock casino never ever step forward', 'best breakfast buffet', 'say bye bye tip ladi', 'never go', 'back', 'food arriv quickli', 'not good', 'side cafe serv realli good food', 'server fantast found wife love roast garlic bone marrow ad extra meal anoth marrow go', 'good thing waiter help kept bloddi mari come', 'best buffet town price cannot beat', 'love mussel cook wine reduct duck tender potato dish delici', 'one better buffet', 'went tigerlilli fantast afternoon', 'food delici bartend attent person got great deal', 'ambienc wonder music play', 'go back next trip', 'sooooo good', 'real sushi lover let honest yama not good', 'least min pass us order food arriv busi', 'realli fantast thai restaur definit worth visit', 'nice spici tender', 'good price', 'check', 'pretti gross', 'better atmospher', 'kind hard mess steak', 'although much like look sound place actual experi bit disappoint', 'know place manag serv blandest food ever eaten prepar indian cuisin', 'worst servic boot least worri', 'servic fine waitress friendli', 'guy steak steak love son steak best worst place said best steak ever eaten', 'thought ventur away get good sushi place realli hit spot night', 'host staff lack better word bitch', 'bland not like place number reason want wast time bad review leav', 'phenomen food servic ambianc', 'return', 'definit worth ventur strip pork belli return next time vega', 'place way overpr mediocr food', 'penn vodka excel', 'good select food includ massiv meatloaf sandwich crispi chicken wrap delish tuna melt tasti burger', 'manag rude', 'delici nyc bagel good select cream chees real lox caper even', 'great subway fact good come everi subway not meet expect', 'serious solid breakfast', 'one best bar food vega', 'extrem rude realli mani restaur would love dine weekend vega', 'drink never empti made realli great menu suggest', '', 'waiter help friendli rare check us', 'husband ate lunch disappoint food servic', 'red curri much bamboo shoot tasti', 'nice blanket moz top feel like done cover subpar food', 'bathroom clean place well decor', 'menu alway chang food qualiti go servic extrem slow', 'servic littl slow consid serv peopl server food come slow pace', 'give thumb', 'watch waiter pay lot attent tabl ignor us', 'fianc came middl day greet seat right away', 'great restaur mandalay bay', 'wait forti five minut vain', 'crostini came salad stale', 'highlight great qualiti nigiri', 'staff friendli joint alway clean', 'differ cut piec day still wonder tender well well flavor', 'order voodoo pasta first time realli excel pasta sinc go gluten free sever year ago', 'place good', 'unfortun must hit bakeri leftov day everyth order stale', 'came back today sinc reloc still not impress', 'seat immedi', 'menu divers reason price', 'avoid cost', 'restaur alway full never wait', 'delici', 'place hand one best place eat phoenix metro area', 'go look good food', 'never treat bad', 'bacon hella salti', 'also order spinach avocado salad ingredi sad dress liter zero tast', 'realli vega fine dine use right menu hand ladi price list', 'waitress friendli', 'lordi khao soi dish not miss curri lover', 'everyth menu terrif also thrill made amaz accommod vegetarian daughter', 'perhap caught night judg review not inspir go back', 'servic leav lot desir', 'atmospher modern hip maintain touch cozi', 'not weekli haunt definit place come back everi', 'liter sat minut one ask take order', 'burger absolut flavor meat total bland burger overcook charcoal flavor', 'also decid not send back waitress look like verg heart attack', 'dress treat rude', 'probabl dirt', 'love place hit spot want someth healthi not lack quantiti flavor', 'order lemon raspberri ice cocktail also incred', 'food suck expect suck could imagin', 'interest decor', 'realli like crepe station', 'also serv hot bread butter home made potato chip bacon bit top origin good', 'watch prepar delici food', 'egg roll fantast', 'order arriv one gyro miss', 'salad wing ice cream dessert left feel quit satisfi', 'not realli sure joey vote best hot dog valley reader phoenix magazin', 'best place go tasti bowl pho', 'live music friday total blow', 'never insult felt disrespect', 'friendli staff', 'worth drive', 'heard good thing place exceed everi hope could dream', 'food great serivc', 'warm beer help', 'great brunch spot', 'servic friendli invit', 'good lunch spot', 'live sinc first last time step foot place', 'worst experi ever', 'must night place', 'side delish mix mushroom yukon gold pure white corn beateou', 'bug never show would given sure side wall bug climb kitchen', 'minut wait salad realiz come time soon', 'friend love salmon tartar', 'go back', 'extrem tasti', 'waitress good though', 'soggi not good', 'jamaican mojito delici', 'small not worth price', 'food rich order accordingli', 'shower area outsid rins not take full shower unless mind nude everyon see', 'servic bit lack', 'lobster bisqu bussel sprout risotto filet need salt pepper cours none tabl', 'hope bode go busi someon cook come', 'either cold not enough flavor bad', 'love bacon wrap date', 'unbeliev bargain', 'folk otto alway make us feel welcom special', 'main also uninspir', 'place first pho amaz', 'wonder experi made place must stop whenev town', 'food bad enough enjoy deal world worst annoy drunk peopl', 'fun chef', 'order doubl cheeseburg got singl patti fall apart pictur upload yeah still suck', 'great place coupl drink watch sport event wall cover tv', 'possibl give zero star', 'descript said yum yum sauc anoth said eel sauc yet anoth said spici mayo well none roll sauc', 'say would hardest decis honestli dish tast suppos tast amaz', 'not roll eye may stay not sure go back tri', 'everyon attent provid excel custom servic', 'horribl wast time money', 'dish quit flavour', 'time side restaur almost empti excus', 'busi either also build freez cold', 'like review said pay eat place', 'drink took close minut come one point', 'serious flavor delight folk', 'much better ayc sushi place went vega', 'light dark enough set mood', 'base sub par servic receiv effort show gratitud busi go back', 'owner realli great peopl', 'noth privileg work eat', 'greek dress creami flavor', 'overal think would take parent place made similar complaint silent felt', 'pizza good peanut sauc tasti', 'tabl servic pretti fast', 'fantast servic', 'well would given godfath zero star possibl', 'know make', 'tough short flavor', 'hope place stick around', 'bar vega not ever recal charg tap water', 'restaur atmospher exquisit', 'good servic clean inexpens boot', 'seafood fresh gener portion', 'plu buck', 'servic not par either', 'thu far visit twice food absolut delici time', 'good year ago', 'self proclaim coffe cafe wildli disappoint', 'veggitarian platter world', 'cant go wrong food', 'beat', 'stop place madison ironman friendli kind staff', 'chef friendli good job', 'better not dedic boba tea spot even jenni pho', 'like patio servic outstand', 'goat taco skimp meat wow flavor', 'think not', 'mac salad pretti bland not get', 'went bachi burger friend recommend not disappoint', 'servic stink', 'wait wait', 'place not qualiti sushi not qualiti restaur', 'would definit recommend wing well pizza', 'great pizza salad', 'thing went wrong burn saganaki', 'wait hour breakfast could done time better home', 'place amaz', 'hate disagre fellow yelper husband disappoint place', 'wait hour never got either pizza mani around us came later', 'know slow', 'staff great food delish incred beer select', 'live neighborhood disappoint back conveni locat', 'know pull pork could soooo delici', 'get incred fresh fish prepar care', 'go gave star rate pleas know third time eat bachi burger write review', 'love fact everyth menu worth', 'never dine place', 'food excel servic good', 'good beer drink select good food select', 'pleas stay away shrimp stir fri noodl', 'potato chip order sad could probabl count mani chip box probabl around', 'food realli bore', 'good servic check', 'greedi corpor never see anoth dime', 'never ever go back', 'much like go back get pass atroci servic never return', 'summer dine charm outdoor patio delight', 'not expect good', 'fantast food', 'order toast english muffin came untoast', 'food good', 'never go back', 'great food price high qualiti hous made', 'bu boy hand rude', 'point friend basic figur place joke mind make publicli loudli known', 'back good bbq lighter fare reason price tell public back old way', 'consid two us left full happi go wrong', 'bread made hous', 'downsid servic', 'also fri without doubt worst fri ever', 'servic except food good review', 'coupl month later return amaz meal', 'favorit place town shawarrrrrrma', 'black eye pea sweet potato unreal', 'disappoint', 'could serv vinaigrett may make better overal dish still good', 'go far mani place never seen restaur serv egg breakfast especi', 'mom got home immedi got sick bite salad', 'server not pleasant deal alway honor pizza hut coupon', 'truli unbeliev good glad went back', 'fantast servic pleas atmospher', 'everyth gross', 'love place', 'great servic food', 'first bathroom locat dirti seat cover not replenish plain yucki', 'burger got gold standard burger kind disappoint', 'omg food delicioso', 'noth authent place', 'spaghetti noth special whatsoev', 'dish salmon best great', 'veget fresh sauc feel like authent thai', 'worth drive tucson', 'select probabl worst seen vega none', 'pretti good beer select', 'place like chipotl better', 'classi warm atmospher fun fresh appet succul steak basebal steak', 'star brick oven bread app', 'eaten multipl time time food delici', 'sat anoth ten minut final gave left', 'terribl', 'everyon treat equal special', 'take min pancak egg', 'delici', 'good side staff genuin pleasant enthusiast real treat', 'sadli gordon ramsey steak place shall sharpli avoid next trip vega', 'alway even wonder food delici', 'best fish ever life', 'bathroom next door nice', 'buffet small food offer bland', 'outstand littl restaur best food ever tast', 'pretti cool would say', 'definit turn doubt back unless someon els buy', 'server great job handl larg rowdi tabl', 'find wast food despic food', 'wife lobster bisqu soup lukewarm', 'would come back sushi crave vega', 'staff great ambianc great', 'deserv star', 'left stomach ach felt sick rest day', 'drop ball', 'dine space tini elegantli decor comfort', 'custom order way like usual eggplant green bean stir fri love', 'bean rice mediocr best', 'best taco town far', 'took back money got outta', 'interest part town place amaz', 'rude inconsider manag', 'staff not friendli wait time serv horribl one even say hi first minut', 'back', 'great dinner', 'servic outshin definit recommend halibut', 'food terribl', 'never ever go back told mani peopl happen', 'recommend unless car break front starv', 'come back everi time vega', 'place deserv one star food', 'disgrac', 'def come back bowl next time', 'want healthi authent ethic food tri place', 'continu come ladi night andddd date night highli recommend place anyon area', 'sever time past experi alway great', 'walk away stuf happi first vega buffet experi', 'servic excel price pretti reason consid vega locat insid crystal shop mall aria', 'summar food incred nay transcend noth bring joy quit like memori pneumat condiment dispens', 'probabl one peopl ever go ian not like', 'kid pizza alway hit lot great side dish option kiddo', 'servic perfect famili atmospher nice see', 'cook perfect servic impecc', 'one simpli disappoint', 'overal disappoint qualiti food bouchon', 'account know get screw', 'great place eat remind littl mom pop shop san francisco bay area', 'today first tast buldogi gourmet hot dog tell ever thought possibl', 'left frustrat', 'definit soon', 'food realli good got full petti fast', 'servic fantast', 'total wast time', 'know kind best ice tea', 'come hungri leav happi stuf', 'servic give star', 'assur disappoint', 'take littl bad servic food suck', 'gave tri eat crust teeth still sore', 'complet gross', 'realli enjoy eat', 'first time go think quickli becom regular', 'server nice even though look littl overwhelm need stay profession friendli end', 'dinner companion told everyth fresh nice textur tast', 'ground right next tabl larg smear step track everywher pile green bird poop', 'furthermor even find hour oper websit', 'tri like place time think done', 'mistak', 'complaint', 'serious good pizza expert connisseur topic', 'waiter jerk', 'strike want rush', 'nicest restaur owner ever come across', 'never come', 'love biscuit', 'servic quick friendli', 'order appet took minut pizza anoth minut', 'absolutley fantast', 'huge awkward lb piec cow th gristl fat', 'definit come back', 'like steiner dark feel like bar', 'wow spici delici', 'not familiar check', 'take busi dinner dollar elsewher', 'love go back', 'anyway fs restaur wonder breakfast lunch', 'noth special', 'day week differ deal delici', 'not mention combin pear almond bacon big winner', 'not back', 'sauc tasteless', 'food delici spici enough sure ask spicier prefer way', 'ribey steak cook perfectli great mesquit flavor', 'think go back anytim soon', 'food gooodd', 'far sushi connoisseur definit tell differ good food bad food certainli bad food', 'insult', 'last time lunch bad', 'chicken wing contain driest chicken meat ever eaten', 'food good enjoy everi mouth enjoy relax venu coupl small famili group etc', 'nargil think great', 'best tater tot southwest', 'love place', 'definit not worth paid', 'vanilla ice cream creami smooth profiterol choux pastri fresh enough', 'im az time new spot', 'manag worst', 'insid realli quit nice clean', 'food outstand price reason', 'think run back carli anytim soon food', 'due fact took minut acknowledg anoth minut get food kept forget thing', 'love margarita', 'first vega buffet not disappoint', 'good though', 'one note ventil could use upgrad', 'great pork sandwich', 'wast time', 'total letdown would much rather go camelback flower shop cartel coffe', 'third chees friend burger cold', 'enjoy pizza brunch', 'steak well trim also perfectli cook', 'group claim would handl us beauti', 'love', 'ask bill leav without eat bring either', 'place jewel la vega exactli hope find nearli ten year live', 'seafood limit boil shrimp crab leg crab leg definit not tast fresh', 'select food not best', 'delici absolut back', 'small famili restaur fine dine establish', 'toro tartar cavier extraordinari like thinli slice wagyu white truffl', 'dont think back long time', 'attach ga station rare good sign', 'awesom', 'back mani time soon', 'menu much good stuff could not decid', 'wors humili worker right front bunch horribl name call', 'conclus fill meal', 'daili special alway hit group', 'tragedi struck', 'pancak also realli good pretti larg', 'first crawfish experi delici', 'monster chicken fri steak egg time favorit', 'waitress sweet funni', 'also tast mom multi grain pumpkin pancak pecan butter amaz fluffi delici', 'rather eat airlin food serious', 'cant say enough good thing place', 'ambianc incred', 'waitress manag friendli', 'would not recommend place', 'overal impress noca', 'gyro basic lettuc', 'terribl servic', 'thoroughli disappoint', 'much pasta love homemad hand made pasta thin pizza', 'give tri happi', 'far best cheesecurd ever', 'reason price also', 'everyth perfect night', 'food good typic bar food', 'drive get', 'first glanc love bakeri cafe nice ambianc clean friendli staff', 'anyway not think go back', 'point finger item menu order disappoint', 'oh thing beauti restaur', 'gone go', 'greasi unhealthi meal', 'first time might last', 'burger amaz', 'similarli deliveri man not say word apolog food minut late', 'way expens', 'sure order dessert even need pack go tiramisu cannoli die', 'first time wait next', 'bartend also nice', 'everyth good tasti', 'place two thumb way', 'best place vega breakfast check sat sun', 'love authent mexican food want whole bunch interest yet delici meat choos need tri place', 'terribl manag', 'excel new restaur experienc frenchman', 'zero star would give zero star', 'great steak great side great wine amaz dessert', 'worst martini ever', 'steak shrimp opinion best entre gc', 'opportun today sampl amaz pizza', 'wait thirti minut seat although vacant tabl folk wait', 'yellowtail carpaccio melt mouth fresh', 'tri go back even empti', 'go eat potato found stranger hair', 'spici enough perfect actual', 'last night second time dine happi decid go back', 'not even hello right', 'dessert bit strang', 'boyfriend came first time recent trip vega could not pleas qualiti food servic', 'realli recommend place go wrong donut place', 'nice ambianc', 'would recommend save room', 'guess mayb went night disgrac', 'howev recent experi particular locat not good', 'know not like restaur someth', 'avoid establish', 'think restaur suffer not tri hard enough', 'tapa dish delici', 'heart place', 'salad bland vinegrett babi green heart palm', 'two felt disgust', 'good time', 'believ place great stop huge belli hanker sushi', 'gener portion great tast', 'never go back place never ever recommend place anyon', 'server went back forth sever time not even much help', 'food delici', 'hour serious', 'consid theft', 'eew locat need complet overhaul', 'recent wit poor qualiti manag toward guest well', 'wait wait wait', 'also came back check us regularli excel servic', 'server super nice check us mani time', 'pizza tast old super chewi not good way', 'swung give tri deepli disappoint', 'servic good compani better', 'staff also friendli effici', 'servic fan quick serv nice folk', 'boy sucker dri', 'rate', 'look authent thai food go els', 'steak recommend', 'pull car wait anoth minut acknowledg', 'great food great servic clean friendli set', 'assur back', 'hate thing much cheap qualiti black oliv', 'breakfast perpar great beauti present giant slice toast lightli dust powder sugar', 'kid play area nasti', 'great place fo take eat', 'waitress friendli happi accomod vegan veggi option', 'omg felt like never eaten thai food dish', 'extrem crumbi pretti tasteless', 'pale color instead nice char flavor', 'crouton also tast homemad extra plu', 'got home see driest damn wing ever', 'regular stop trip phoenix', 'realli enjoy crema caf expand even told friend best breakfast', 'not good money', 'miss wish one philadelphia', 'got sit fairli fast end wait minut place order anoth minut food arriv', 'also best chees crisp town', 'good valu great food great servic', 'ask satisfi meal', 'food good', 'awesom', 'want leav', 'made drive way north scottsdal not one bit disappoint', 'not eat', 'owner realli realli need quit soooooo cheap let wrap freak sandwich two paper not one', 'check place coupl year ago not impress', 'chicken got definit reheat ok wedg cold soggi', 'sorri not get food anytim soon', 'absolut must visit', 'cow tongu cheek taco amaz', 'friend not like bloodi mari', 'despit hard rate busi actual rare give star', 'realli want make experi good one', 'not return', 'chicken pho tast bland', 'disappoint', 'grill chicken tender yellow saffron season', 'drive thru mean not want wait around half hour food somehow end go make us wait wait', 'pretti awesom place', 'ambienc perfect', 'best luck rude non custom servic focus new manag', 'grandmoth make roast chicken better one', 'ask multipl time wine list time ignor went hostess got one', 'staff alway super friendli help especi cool bring two small boy babi', 'four star food guy blue shirt great vibe still let us eat', 'roast beef sandwich tast realli good', 'even drastic sick', 'high qualiti chicken chicken caesar salad', 'order burger rare came done', 'promptli greet seat', 'tri go lunch madhous', 'proven dead wrong sushi bar not qualiti great servic fast food impecc', 'wait hour seat not greatest mood', 'good joint', 'macaron insan good', 'not eat', 'waiter attent friendli inform', 'mayb cold would somewhat edibl', 'place lot promis fail deliv', 'bad experi', 'mistak', 'food averag best', 'great food', 'go back anytim soon', 'disappoint order big bay plater', 'great place relax awesom burger beer', 'perfect sit famili meal get togeth friend', 'not much flavor poorli construct', 'patio seat comfort', 'fri rice dri well', 'hand favorit italian restaur', 'scream legit book somethat also pretti rare vega', 'not fun experi', 'atmospher great love duo violinist play song request', 'person love hummu pita baklava falafel baba ganoush amaz eggplant', 'conveni sinc stay mgm', 'owner super friendli staff courteou', 'great', 'eclect select', 'sweet potato tot good onion ring perfect close', 'staff attent', 'chef gener time even came around twice take pictur', 'owner use work nobu place realli similar half price', 'googl mediocr imagin smashburg pop', 'dont go', 'promis disappoint', 'sushi lover avoid place mean', 'great doubl cheeseburg', 'awesom servic food', 'fantast neighborhood gem', 'wait go back', 'plantain worst ever tast', 'great place highli recommend', 'servic slow not attent', 'gave star give star', 'staff spend time talk', 'dessert panna cotta amaz', 'good food great atmospher', 'damn good steak', 'total brunch fail', 'price reason flavor spot sauc home made slaw not drench mayo', 'decor nice piano music soundtrack pleasant', 'steak amaz rge fillet relleno best seafood plate ever', 'good food good servic', 'absolut amaz', 'probabl back honest', 'definit back', 'sergeant pepper beef sandwich auju sauc excel sandwich well', 'hawaiian breez mango magic pineappl delight smoothi tri far good', 'went lunch servic slow', 'much say place walk expect amaz quickli disappoint', 'mortifi', 'needless say never back', 'anyway food definit not fill price pay expect', 'chip came drip greas mostli not edibl', 'realli impress strip steak', 'go sinc everi meal awesom', 'server nice attent serv staff', 'cashier friendli even brought food', 'work hospit industri paradis valley refrain recommend cibo longer', 'atmospher fun', 'would not recommend other', 'servic quick even go order like like', 'mean realli get famou fish chip terribl', 'said mouth belli still quit pleas', 'not thing', 'thumb', 'read pleas go', 'love grill pizza remind legit italian pizza', 'pro larg seat area nice bar area great simpl drink menu best brick oven pizza homemad dough', 'realli nice atmospher', 'tonight elk filet special suck', 'one bite hook', 'order old classic new dish go time sore disappoint everyth', 'cute quaint simpl honest', 'chicken delici season perfect fri outsid moist chicken insid', 'food great alway compliment chef', 'special thank dylan recommend order yummi tummi', 'awesom select beer', 'great food awesom servic', 'one nice thing ad gratuiti bill sinc parti larger expect tip', 'fli appl juic fli', 'han nan chicken also tasti', 'servic thought good', 'food bare lukewarm must sit wait server bring us', 'ryan bar definit one edinburgh establish revisit', 'nicest chines restaur', 'overal like food servic', 'also serv indian naan bread hummu spici pine nut sauc world', 'probabl never come back recommend', 'friend pasta also bad bare touch', 'tri airport experi tasti food speedi friendli servic', 'love decor chines calligraphi wall paper', 'never anyth complain', 'restaur clean famili restaur feel', 'way fri', 'not sure long stood long enough begin feel awkwardli place', 'open sandwich impress not good way', 'not back', 'warm feel servic felt like guest special treat', 'extens menu provid lot option breakfast', 'alway order vegetarian menu dinner wide array option choos', 'watch price inflat portion get smaller manag attitud grow rapidli', 'wonder lil tapa ambienc made feel warm fuzzi insid', 'got enjoy seafood salad fabul vinegrett', 'wonton thin not thick chewi almost melt mouth', 'level spici perfect spice whelm soup', 'sat right time server get go fantast', 'main thing enjoy crowd older crowd around mid', 'side town definit spot hit', 'wait minut get drink longer get arepa', 'great place eat', 'jalapeno bacon soooo good', 'servic poor that nice', 'food good servic good price good', 'place not clean food oh stale', 'chicken dish ok beef like shoe leather', 'servic beyond bad', 'happi', 'tast like dirt', 'one place phoenix would defin go back', 'block amaz', 'close hous low key non fanci afford price good food', 'hot sour egg flower soup absolut star', 'sashimi poor qualiti soggi tasteless', 'great time famili dinner sunday night', 'food not tasti not say real tradit hunan style', 'bother slow servic', 'flair bartend absolut amaz', 'frozen margarita way sugari tast', 'good order twice', 'nutshel restaraunt smell like combin dirti fish market sewer', 'girlfriend veal bad', 'unfortun not good', 'pretti satifi experi', 'join club get awesom offer via email', 'perfect someon like beer ice cold case even colder', 'bland flavorless good way describ bare tepid meat', 'chain fan beat place easili', 'nacho must', 'not come back', 'mani word say place everyth pretti well', 'staff super nice quick even crazi crowd downtown juri lawyer court staff', 'great atmospher friendli fast servic', 'receiv pita huge lot meat thumb', 'food arriv meh', 'pay hot dog fri look like came kid meal wienerschnitzel not idea good meal', 'classic main lobster roll fantast', 'brother law work mall ate day guess sick night', 'good go review place twice herea tribut place tribut event held last night', 'chip salsa realli good salsa fresh', 'place great', 'mediocr food', 'get insid impress place', 'super pissd', 'servic super friendli', 'sad littl veget overcook', 'place nice surpris', 'golden crispi delici', 'high hope place sinc burger cook charcoal grill unfortun tast fell flat way flat', 'could eat bruschetta day devin', 'not singl employe came see ok even need water refil final serv us food', 'lastli mozzarella stick best thing order', 'first time ever came amaz experi still tell peopl awesom duck', 'server neglig need made us feel unwelcom would not suggest place', 'servic terribl though', 'place overpr not consist boba realli overpr', 'pack', 'love place', 'say dessert yummi', 'food terribl', 'season fruit fresh white peach pure', 'kept get wors wors offici done', 'place honestli blown', 'definit would not eat', 'not wast money', 'love put food nice plastic contain oppos cram littl paper takeout box', 'cr pe delic thin moist', 'aw servic', 'ever go', 'food qualiti horribl', 'price think place would much rather gone', 'servic fair best', 'love sushi found kabuki price hip servic', 'favor stay away dish', 'poor servic', 'one tabl thought food averag worth wait', 'best servic food ever maria server good friendli made day', 'excel', 'paid bill not tip felt server terribl job', 'lunch great experi', 'never bland food surpris consid articl read focus much spice flavor', 'food way overpr portion fuck small', 'recent tri caballero back everi week sinc', 'buck head realli expect better food', 'food came good pace', 'ate twice last visit especi enjoy salmon salad', 'back', 'could not believ dirti oyster', 'place deserv star', 'would not recommend place', 'fact go round star awesom', 'disbelief dish qualifi worst version food ever tast', 'bad day not low toler rude custom servic peopl job nice polit wash dish otherwis', 'potato great biscuit', 'probabl would not go', 'flavor perfect amount heat', 'price reason servic great', 'wife hate meal coconut shrimp friend realli not enjoy meal either', 'fella got huevo ranchero look appeal', 'went happi hour great list wine', 'may say buffet pricey think get pay place get quit lot', 'probabl come back', 'worst food servic', 'place pretti good nice littl vibe restaur', 'talk great custom servic cours back', 'hot dish not hot cold dish close room temp watch staff prepar food bare hand glove everyth deep fri oil', 'love fri bean', 'alway pleasur deal', 'plethora salad sandwich everyth tri get seal approv', 'place awesom want someth light healthi summer', 'sushi strip place go', 'servic great even manag came help tabl', 'feel dine room colleg cook cours high class dine servic slow best', 'start review two star edit give one', 'worst sushi ever eat besid costco', 'excel restaur highlight great servic uniqu menu beauti set', 'boyfriend sat bar complet delight experi', 'weird vibe owner', 'hardli meat', 'better bagel groceri store', 'go place gyro', 'love owner chef one authent japanes cool dude', 'burger good pizza use amaz doughi flavorless', 'found six inch long piec wire salsa', 'servic terribl food mediocr', 'defin enjoy', 'order albondiga soup warm tast like tomato soup frozen meatbal', 'three differ occas ask well done medium well three time got bloodiest piec meat plate', 'two bite refus eat anymor', 'servic extrem slow', 'minut wait got tabl', 'serious killer hot chai latt', 'allergi warn menu waitress absolut clue meal not contain peanut', 'boyfriend tri mediterranean chicken salad fell love', 'rotat beer tap also highlight place', 'price bit concern mellow mushroom', 'worst thai ever', 'stay vega must get breakfast least', 'want first say server great perfect servic', 'pizza select good', 'strawberri tea good', 'highli unprofession rude loyal patron', 'overal great experi', 'spend money elsewher', 'regular toast bread equal satisfi occasion pat butter mmmm', 'buffet bellagio far anticip', 'drink weak peopl', 'order not correct', 'also feel like chip bought not made hous', 'disappoint dinner went elsewher dessert', 'chip sal amaz', 'return', 'new fav vega buffet spot', 'serious cannot believ owner mani unexperienc employe run around like chicken head cut', 'sad', 'felt insult disrespect could talk judg anoth human like', 'call steakhous properli cook steak understand', 'not impress concept food', 'thing crazi guacamol like pur ed', 'realli noth postino hope experi better', 'got food poison buffet', 'brought fresh batch fri think yay someth warm', 'hilari yummi christma eve dinner rememb biggest fail entir trip us', 'needless say go back anytim soon', 'place disgust', 'everi time eat see care teamwork profession degre', 'ri style calamari joke', 'howev much garlic fondu bare edibl', 'could bare stomach meal complain busi lunch', 'bad lost heart finish', 'also took forev bring us check ask', 'one make scene restaur get definit lost love one', 'disappoint experi', 'food par denni say not good', 'want wait mediocr food downright terribl servic place', 'waaaaaayyyyyyyyyi rate say', 'go back', 'place fairli clean food simpli worth', 'place lack style', 'sangria half glass wine full ridicul', 'bother come', 'meat pretti dri slice brisket pull pork', 'build seem pretti neat bathroom pretti trippi eat', 'equal aw', 'probabl not hurri go back', 'slow seat even reserv', 'not good stretch imagin', 'cashew cream sauc bland veget undercook', 'chipolt ranch dip saus tasteless seem thin water heat', 'bit sweet not realli spici enough lack flavor', 'disappoint', 'place horribl way overpr', 'mayb vegetarian fare twice thought averag best', 'busi know', 'tabl outsid also dirti lot time worker not alway friendli help menu', 'ambianc not feel like buffet set douchey indoor garden tea biscuit', 'con spotti servic', 'fri not hot neither burger', 'came back cold', 'food came disappoint ensu', 'real disappoint waiter', 'husband said rude not even apolog bad food anyth', 'reason eat would fill night bing drink get carb stomach', 'insult profound deuchebaggeri go outsid smoke break serv solidifi', 'someon order two taco think may part custom servic ask combo ala cart', 'quit disappoint although blame need place door', 'rave review wait eat disappoint', 'del taco pretti nasti avoid possibl', 'not hard make decent hamburg', 'like', 'hell go back', 'gotten much better servic pizza place next door servic receiv restaur', 'know big deal place back ya', 'immedi said want talk manag not want talk guy shot firebal behind bar', 'ambianc much better', 'unfortun set us disapppoint entre', 'food good', 'server suck wait correct server heimer suck', 'happen next pretti put', 'bad caus know famili own realli want like place', 'overpr get', 'vomit bathroom mid lunch', 'kept look time soon becom minut yet still food', 'place eat circumst would ever return top list', 'start tuna sashimi brownish color obvious fresh', 'food averag', 'sure beat nacho movi would expect littl bit come restaur', 'ha long bay bit flop', 'problem charg sandwich bigger subway sub offer better amount veget', 'shrimp unwrap live mile brushfir liter ice cold', 'lack flavor seem undercook dri', 'realli impress place close', 'would avoid place stay mirag', 'refri bean came meal dri crusti food bland', 'spend money time place els', 'ladi tabl next us found live green caterpillar salad', 'present food aw', 'tell disappoint', 'think food flavor textur lack', 'appetit instantli gone', 'overal not impress would not go back', 'whole experi underwhelm think go ninja sushi next time', 'wast enough life pour salt wound draw time took bring check', 'friendli staff accommod nice food nice cool insid air condit would love outsid winter day', 'parti cold chip fish chip meal well fish nice hot though', 'vineyard restaur love welcom beauti locat ground immacul kept staff friendli help make one feel eas food wine good valu money anniversari great day barrel', 'great relax lunch atmospher exactli want staff help friendli food tast great not much select wine fantast', 'except friendli welcom staff deliv effici qualiti servic wine tast flight well curat discov pleas treat premium reserv rang doubl graze plate good noth adventur price qualiti ingredi use good public holiday surcharg food servic understand also appli take home wine bottl sale also mind unconvent overal good experi make barrel regular haunt', 'food servic great definit worth hour drive beauti locat', 'phone ahead made book arriv restaur minut earli wait rain minut found tabl us took minut meal come disappoint size flavour waitress act total inconveni day multipl waitress get close us stand top us see tabl number written scrap paper sticki tape centr tabl occur diner meal meal waitress tabl found look forward tri barrel year left feel disappoint experi', 'love food set amaz dine insid barrel howev staff complet overwhelm busy waiter deliv plate wrong tabl meal took hour come felt sorri staff best howev felt manic', 'love locat food came one time one meal arriv gener portion size kid graze platter nice idea staff not friendli go back', 'love afternoon barrel staff realli friendli good wine great love set highli recommend', 'would love see live music outsid boost ambienc alway love time class local', 'excel select food wine flight great day', 'amaz atmospher food fresh delici came quickli order fabul select drink', 'set invit shade well space servic prompt effici food good hesit recommend barrel friend visitor', 'fantast food amaz select wine beer highli recommend', 'alway want visit barrel pleas beer wine paddl great actual enjoy everi glass share plate chees meat dip yummi inde', 'great food great atmospher awesom place occas great job staff barrel', 'awesom valu money realli enjoy platter wine flight', 'locat vibe realli good food pretti averag driest rubberi piec fish ever eaten drink expens', 'staff love food wine great view atmospher best would definit recommend', 'waitress superb make sure satisfi everi stage visit', 'beauti set salmon cold interest servic model beverag serv bar rather deliv', 'beauti facil staff love friendli food took except long time arriv not togeth ate diff time entre came end two meal miss kitchen probabl need updat system chang would also recommend put wed hen buck parti differ area normal quieter guest could creat wonder charat space accommod', 'great locat food great price reason issu three bridal hen parti time us everyon seem go order queue us order deep eventu put extra staff member speed process howev coupl peopl not bridal parti push front line immedi serv staff unfair wait line', 'great venu fabul decor ambianc issu quiet cool almost cold cold wet dreari day quiet uncomfort food took long time arriv forgot meal howev receiv fresh delici', 'neighbour visit barrel regularli yesterday food servic poor queu minut order bottl wine glass took anoth minut arriv order fish chip time not barrel standard heavi batter not crisp servic unsupervis not seem know', 'go back food wine servic weird order starter main time save trot back counter line arriv togeth young wait staff seem idea weird ask also miss hug opportun layout place view back hill car park amaz lot quieter side seem odd diner sit besid main road could enjoy quiet view side build', 'food great fairli quick tabl alway excel starv cyclist runner yogi servic great dietari requir question staff friendli help toward us help cater need atmospher great overal star', 'love locat venu staff friendli good food wine', 'poor servic wait min drink cutleri napkin follow great spot servic woeful', 'not enough staff cope number guest ask time get drink order paid not get finish lunch readi leav food not good expens', 'absolut terribl servic follow drink differ staff member rude end come nearli hour food finish quickli readi leav drink final arriv nice locat nice food food area kid play howev go back', 'love venu visit beauti posit great food kid great time playground would go back', 'reason food price tasti paddl wine yum realli enjoy bring interst visitor', 'great venu meet friend warm spring day love time servic food fabul howev get bit hot sun umbrella help much sun move think head summer might need consider provid shade area', 'absolut fantast servic beauti food great wine', 'wonder lunch usual chip splendid everyon enjoy food us order pasta felt like eat heaven crab prawn pasta mediterranean veg pasta return', 'perfect anniversari gift parent wine beer paddl two grazer platter delici tell famili friend visit well look realli enjoy experi', 'barrel amaz great view amaz food wine servic great staff pleasant welcom', 'dine time cloud love howev food not usual standard', 'servic bad wine food averag not go back recommend anybodi', 'wait hr food arriv told one dish sold one person meal offer wait altern meal not go wait length time also seper drink order miss incred disappoint not sure would return', 'great venu food drink atmospher staff second time definit back attend father day busi staff handl well welcom accommod need special thank alicia went way help kid staff deserv thank', 'wait around minut main cours arriv across minut period staff help apologet food got good queu order food pain understand second regist close still load peopl order reason stay dessert coffe purchas wine go', 'disappoint experi barrel pre book lunch father day partner kid went order food paid told would wait hour food took hour half food come slap tabl apolog late meal wrong wait anoth minut arriv partner prompt staff linguin arriv crab meat state menu drink also took minut arriv tabl finish meal got look wine offer buy left kid book colour piec lego tabl got back tabl clear apart actual rubbish ask staff kid belong told bin bottom ask ladi could get decent book lego collector piec act inconvenienc whilst happen anoth custom complain wait time incorrect meal realli book mani peopl cope number', 'polit complain twice aw fish chip receiv empathi one apologis wait person said would tell chef ask ignor batter absolut aw one piec fish tini tabl next us receiv piec look like beauti light batter look forward long time father day realli disappoint not acknowledg alreadi apprehens complain terribl experi', 'order wait minut ask much longer wait told anoth minut unabl give explan wait anoth minut enquir food told still two docket infront us food yet start two hungri small children us clear indic much longer go take food arriv wait around longer left refund food disappoint experi', 'good servic order food drink bar delici food good size would prefer place restaur view mountain compar dim light area', 'visit sunday th august group peopl food tasti awesom wait reason time day amount peopl vineyard unfortun bar servic dread wait min schooner beer told quicker schooner rather beer wine paddl food arriv tabl drink arriv mayb solut would let peopl collect drink bar instead full tabl servic staf issu seem adequ staff restaur would definit visit', 'dine disappoint friday lunchtim queu met door tabl book told sorri half hour wait till get drink wait time meal said cancel tabl dine somewher els wish known drive realli enjoy second choic maleni not busi serv', 'wait hpur food burger raw appar one chef like undercook wagu burger real apolog offer refund offer free desert drink declin would not recommend would return', 'prawn crab linguin divin', 'arriv ask could seat closer playground two young children told bigger tabl side would fine half remaind empti entir time attmept accomod request thai beef salad usual winner wherev go time seem bowl rocket coupl token cherri tomato piec red onion bare dress seem bottom bowl beef least tender impress children meal definit got valu money thoroughli look forward final tri restur sad disappoint may go back futur definit tri place first', 'honour book turn away arriv min close', 'barrel perfect spot great view natur around lunch friday food delici linguin prawn crab littl crab realli delici granddaught love hamburg think chicken chip die downsid slow servic wait nearli hour meal even though place overli busi waitress kept bring food wrong tabl caus bit confus know restaur battl get staff forgiv slow servic delici food made well done chef', 'locat look place excel food serv tast good unfortun lot menu unavail servic littl lack tri call day queri phone line rang appreci possibl understaf busi howev tabl finish meal meal serv entre dip meant come main deliv end cancel main meal late sadli main meal turn birthday person salad rather disappoint birthday outsid toilet also smell drift tabl unpleas item menu want avail meal come togeth would rate higher weekday big group fine howev group book weekend not good', 'made book lunch got told not chef', 'bit disappoint rd visit servic slow order drink well meal food came first pasta warm cold time finish disappoint meal tasti ambianc good overal slow afternoon', 'servic smile ambienc stood', 'friendli servic although technolog menu order via phone tabl use day great place famili go next visit maleni', 'food delici seat playground great child kept get whiff toilet pleasant tri eat staff nice nearli finish eat wine beer paddl came not sure forgotten us overal nice afternoon definit ask seat away toilet next time', 'beauti spot celebr birthday lunch', 'everyth beauti except found toilet not standard everyth els', 'pour rain hard get find entranc insid restaur quiet music atmospher order chees platter amaz knive provid ask chees knive site butter knife venu food wine amaz let ambienc custom servic staff not warm friendli', 'great place go decor outstand highli recommendd come meal tast local wine', 'busi everyon order bar one staff member take order thank tabl insid everyon line found littl awkward peopl sit vibe seat area beauti staff friendli order pasta found littl bland would go back drink nibbl possibl feel better system take order need look', 'went lunch food servic good sat outsid view garden realli nice wine good even bought bring home', 'heard multipl sourc recent limit menu not great surpris lunch month back brilliant issu sort full menu offer great varieti dish crab prawn pasta signatur dish amaz coupl wine flight best way go keep guy highli recommend', 'good overal wine tasti great experi wine tast tabl food vegetarian option howev massiv choic food gener mainli share plate good place wine nibbl', 'unfortun error forgotten item order otherwis love day', 'beauti child friendli venu great food friendli staff', 'book barrel room girl lunch fantast area amaz food highli recommend', 'food amaz servic pretti averag guess understaf rang time two day get ambianc would much better play kind music not much view either like said fault food', 'disorganis wine not local stanthorp platter woolworth product not local disappoint', 'wr absolut love lunch experi moment arriv greet love staff member quick order drink food wine tast board gr valu money unftli explain wine us tho stand share platter chees bread cracker cold cut condiment also partner juici beef burgern delici fri would hesit go back', 'wonder lunch food servic wine top notch great atmospher afford menu back sure friend', 'fabul food fantast venu love thank', 'beauti spot good food enjoy weekend afternoon', 'respond properli not told cook till walk birthday celebr find anoth venu', 'good set outsid catch friend whilst kid play playground', 'food undercook fish husband sister pink batter still soggi', 'told us staf slow servic staff love servic quick great spot famili fenc play ground', 'great way spend sunday afternoon friend mainli share plate drink paddl would great form music either background live entertain highli recommend sunday lunch barrel', 'unfortun function not enough staff member meal came eaten drink drink prompt twice us line ask told taken second time say alreadi sent howev us new one bit sad realli look forward place bit let definit need hire staff go function', 'love local place hang friend best chip', 'love lunch food nice especi lobe kid graze plate great idea', 'fabul venu meet friend enjoy qualiti food drink good valu price would thoroughli recommend return', 'book tabl mother birthday gave us room without even ask staff warm welcom friendli throughout whole time drink well price delici food much order long brought also well price delici meal great prawn cesar salad clear winner would definit go back fill drink food still came head great place', 'servic friendli fast partner chicken creami pasta lack flavour garlic bread great would still go back', 'wonder time thought would person tell us wine busi staff overwhelm enjoy', 'overcook fish disinterest staff dirti rest room unfortun cloud vineyard felt like cheap cafe could much weekday menu extrem limit uninterest take interst visitor barrel cafe long time', 'servic poor restaur alway seem understaf wait extrem long amount time coffe drink', 'delici valu money food friendli servic love spot enjoy drink', 'th wed anniversari weekend get away', 'go wine happi good chardonnay one nicest tri long time go view disappoint whole place seem face wrong way best view carpark drive go impecc servic well older waitress love enough us tabl surround us servic younger darker hair girl appal way spoke custom argu move tabl order place order actual etc complet grader everyon day not industri sorri necessari truth go food order wine list', 'not sure order counter tabl servic book seat menu not inform procedur salmon cook still nice partner pasta quit basic flavour would recommend friend visit mayb not meal', 'met famili back australia love atmospher food good would defin recommend other although closur pm serv final drink apart love day', 'wait hour food everyth els great would like go back busi', 'book given outsid tabl wait hour food follow staff came burger cold warm beef salad fish tasteless one came check outsid tabl start rain wait want dessert left sad experi', 'love picturesqu venu enjoy delici lunch drink famili servic not friendliest could improv', 'thank look us yesterday one us local toowoomba symphoni hill pinot gri big hit alreadi recommend wineri other travel way', 'cannot fault food serv size gener tasti level servic left alot desir famili group address peopl thought becom cast member seinfeld research venu function later year hand card say go look not sell servic', 'barrel must go dine room outdoor dine option provid need wonder vari rang diner thank us', 'order chees platter start came meal wend take home disappoint parti meal came muddl also drink came last poor servic unfortun', 'great set work well young famili great servic friendli staff', 'love meal wonder set great lunch tabl staff friendli effici', 'food good sister share graze platter father fish chip nephew chicken burger symphoni hill pinot gri nice wine well price restaur everyon friendli one complaint minor took minut get wine love day definit back', 'slow servic due total staf not first time', 'pleasant atmospher good food reason price outdoor set plenti space famili friendli area children', 'love time barrel shame tabl qr code order unavail long line order complaint', 'unfortun meal arriv differ time cold beauti venu bit disappoint food', 'good pub food pleasant surround', 'best big breakfast ever highli recommend', 'parent visit tassi thought would take lunch qld wineri disappoint shown back room told order qr code end work stand long line order staff interact wine tast paddl plonk front us explan lamb rump extrem tough ined seafood pasta bland tasteless pumpkin thai beef salad ok averag check one staff member throughout visit upon leav noon even acknowledg us venu self nice wine barrel effect', 'food alway amaz favourit spot celebr famili birthday fenc playground outdoor chess set hit book outsid weather littl funni kindli alreadi prepar tabl us insid thank', 'relax atmospher wonder food', 'friend love time barrel great wine delici food great place spend sunday afternoon', 'alway high standard barrel known qualiti great valu friendli proffesion staff beautugul view', 'pop often take advantag amaz place', 'realli good spot took partner great time great servic', 'love spot shame not take advantag view glasshous mountain deck back portion size meal small consid price meal nice love desert', 'book onlin week ahead confirm day prior howev staff could not find book arriv fortun abl seat cellar room great feel think luck anyth els us end love meal ask surpris birthday cake brought would nice staff lit candl brought rather brought cake box sat tabl littl care attent would earn higher rate', 'alway enjoy visit barrel staff alway friendli atmospher alway great', 'love restaur shadi outdoor eat area food extrem good unfortun menu item avail purchas qr tabl servic app could good allow make chang menu eg chees bit useless us said dine food delici shadi outdoor area great hot day', 'tasti food love atmospher worth place visit dine', 'price servic wine disappoint food overpr servic poor qualiti', 'great locat fun adult kid back', 'crack venu awesom view averag good food servic ok', 'love venu nice atmospher staff love food except highli reccomend venu', 'beauti place amaz food someon like wine moscato usual like everi singl wine tri', 'love spot unfortun disappoint one greet custom entri check vaccin statu book rd januari tri make order app find run burger chip pm plu ask menu water decid go elsewher eat sadli cannot recommend not go back unless new manag owner goldmin place much potenti could get wrong', 'order thai beef warm salad seem came straight fridg stone cold stout beer order flat', 'kick new year famili fabul brunch barrel food amaz serv size excel price downsid rain could not share outdoor experi venu fur child definit back staff commun regard weather day great much appreci also back friend take wine beer tast side thing', 'amaz food great servic wait go', 'great food great servic great posit definit return', 'thoroughli enjoy day food great howev mum thai beef salad beef cook tough overal though realli enjoy day snd recommend thank', 'realli enjoy barrel nori delici definit back', 'love wine servic amaz atmospher outstand must', 'great spot relax lunch famili friend', 'sever time lunch food alway superb good valu money wine staff extrem friendli help', 'enjoy sunni ambianc well present surround togeth effici servic great food guest thoroughli enjoy experi way barrel continu regular destin us need special break daili live pattern', 'pleasant experi nice see santa claus', 'atmospher magic servic excel food enjoy nois overpow due larg parti next time would ask seat outsid', 'soon walk new go amaz afternoon venu immacul garden beauti kid area welcom vibe calm servic great food good wonder time', 'wonder venu set relax ambienc realli enjoy memor time friend great view overlook glasshous mountain picturesqu indoor outdoor space includ adjac vineyard thank cloud provid uniqu experi', 'staff friendli oblig food great sat insid nois notic husband hear sensit not problem venu necessarili', 'gener great venu let part food today fri chip poor qualiti', 'sever time alway good experi interst visitor comment good place dine', 'parti four fish chip meal whilst meal nice felt bit pricey servic good staff friendli', 'delici food tranquil set partner thoroughli enjoy meal salmon prawn crab pasta meal came extrem quickli', 'great way start tour alway pleasur everyon guest far love barrel', 'great varieti menu eat lunch not usual hamburg chip', 'local much enjoy barrel lunch friend good menu friendli staff plenti park problem find car park middl maleni mani thank cloud', 'beauti spot perfect kid playground love must go', 'second time dine food simpl delici cook perfectli beer paddl worth tri love ginger beer would love deck back take full advantag view definit back', 'nice set barrel well done great select wine beer food nice would go', 'love locat outsid atmospher amaz drink paddl got valu food ordinari', 'great venu view love also thoroughli enjoy wine chees platter', 'took littl get use electron servic worth say happi sit outsid make sure ask away playground mind heat sun food drink staff absolut fabul would definit go everi time area servic serious super quick view locat thumb', 'sever time year alway happi love gourmet meal servic love venu also pleasant outsid', 'poor servic staff sunday disappoint father day food terribl pasta cold also not pasta order say anyth staff due rude servic feel comfort enough voic wine great make rude wait staff terribl food', 'look beauti sat insid barrel view find tabl book one check us order code tabl go reorder bar tabl behind close move chair toilet tini not clean see potenti not yet hope work go view not enough park road top busi fast walkway restaur driveway without walk entri rd littl kid not great', 'great spot enjoy either indoor outdoor eat drink park extend good best fish chip eaten long', 'possibl need slightli louder music furnish back overal quit good need atmospher', 'good servic beauti outsid good day great bar salmon amaz howev much stringi rocket ined made book surpris put shadi side area cold perhap worst tabl properti howev come enjoy ambienc', 'experi arriv hectic staff not take time greet us busi clean tabl time laps final team member said l shortli mean time found tabl sat minut later offer water time alreadi order first round oft drink final menu provid us simpl order instruct food awesom piti staff attent', 'nice place offer water begin order chees platter entre came thr main realli want alreadi paid unfortun would nicer tabl servic staff polit mayb need tabl space apart', 'fabul experi hard coupl year work hard renov top full time work incred place chill unwind destress food yummi drink fabul young man spoke us delight guy would busi heartbeat asset place gem walk around took magnific view sip red wine smooth silki happi place husband look like weight world lift shoulder that hard one achiev give place wii back', 'visit cloud found provid friendli servic place great atmospher', 'great wine fantast food love spot relax', 'food drink servic top notch seat near larg group men women drop f bomb extrem loudli describ interact peopl quickli ate food took drink differ section enjoy without yo listen f word said repeatedli loudli shame taken partner part special birthday celebr hindsight ask move book tabl cute semi privat barrel shape room mention earlier graze platter delici', 'great food friendli staff ladi back room brilliant', 'food great servic poor grumpi waitress not friendli unhelp howev back time alway great want let know', 'food delici chip perfect burger bit lacklustr wine flight nice would recommend friend tri also tri hous shiraz say', 'super friendli staff yum well price food good rang drink', 'order made easi barcod tabl fast servic delici food sat middl barrel room pleasant definit back', 'time favourit place servic alway top notch food next level everytim drink delici', 'great food realli enjoy wine beer sampler great servic although bit slow busi worth wait though view outsid amaz especi car park', 'relax enviro staff attent not intrus come', 'best restaur long time kid play area great food sensat', 'came mother day wine amaz food terribl chip oili cold order chees cold meat platter entre came main staff want anyth plonk tabl walk tabl sat cm one next us felt like sit lunch book advanc get nice tabl outsid return probabl not shame fellow employe hospit industri say staff realli could train mayb hire chef kitchen', 'back great place meet friend', 'told could either use onlin menu app counter servic probabl would expect tabl servic found wait drink onlin app not sent order order entre eat main cours came littl disappoint prefer entre irst main cours follow norm overal nice place food excel', 'love barrel new favourit spot lunch drink', 'wors experi australia made reserv think one week arriv order one hour half later plate place tabl min later anoth anoth plate arriv min anoth plate last two arriv finish food incred bad servic order togeth receiv food togeth glass wine togeth celebr birthday manag said sorri busi not fault expect visit peopl made reserv bad bad experi', 'love venu friendli staff howev littl disappoint much order menu due meal sold go lunch monday public holiday might run slam weekend think rate would higher could order want husband birthday', 'wine taster flight okay chees board took minut arriv main pasta lamb took anoth hour min arriv arriv tast microwav overcook certainli not worth price wait thoroughli disappoint price food long wait would left without receiv food except order done app alreadi paid food final brought not offer apolog explan unfortun lunch worst part anniversari trip', 'love locat beauti outdoor seat friendli prompt servic devin food great wine', 'thoroughli enjoy lunch sit outsid beauti sunlit garden bought bottl wine home definit back experi food menu', 'delici wine oh yum get tast paddl sure food tasti especi pumpkin haloumi salad staff run feet busi mayb staf beauti view glasshous mt wish dine back enjoy view well done garden well gorgeou hedg thoroughli recommend', 'waitress love howev order pay via scan fine dine restaur appal everi extra drink order order app time consum imperson realli cheapen experi bring back good old fashion custom servic lamb love small serv price give two thin slice flavour love burger chip nice beef enjoy food insid noisi decid move outdoor instead overal nice place good food', 'love time food good atmospher nice servic friendli wine good great famili well complaint', 'cloud vineyard barrel excel venu lunch servic excel food wine good also find reason price enjoy sunday lunch definit rebook opportun aris', 'great time celebr birthday live music littl loud insid make hard hear convers', 'barrel sever time food alway wonder well price wine staff alway sociabl easygo hard work eager pleas got recommend', 'great servic delici food love atmospher highli recommend', 'food excel servic great friendli help staff', 'local barrel sinc new ownership refurbish went raini day casual lunch catch old friend perfect place counter servic wait bar staff friendli help meal came time fashion well present fresh ingredi meal larg serv tri paddl local wine also enjoy meal would certainli go back', 'beauti spot child friendli fantast local beer wine dish highli price eg calamari back', 'arriv busi time pm saturday difficult find anyon talk reserv etc found tabl found menu line minut order mean one person sit tabl wait min next item sale peopl stand next tabl sever time noisi peopl fun', 'per person lunch wonder food tasti appeal look good valu glad not eaten breakfast lot nutriti food offer highli recommend restaur', 'food nice tasti local dish would expect cheap side dish tomato cucumb feta class dish restaur say cheap garnish time dish took paper tabl cloth not way forward feel gross not look nice servic bit place run friendli inexperienc staff walk small tabl gap larger walkway talk loudli differ person everi coupl minut not seamless pay meal', 'food spectacular usual big shout brianna natur waitress pleasant natur keeper kudo mentor well overal fantast reason mum go indulg gav', 'friendli attent servic team exquisit meal beauti view pick feed like barossan option found incred good valu plenti food equal delici well present', 'absolut beauti lunch fresh incred tasti certainli back sit enjoy amaz view amaz food', 'great food lot varieti love concept share plate', 'food absolut delici servic fantast', 'whole tabl agre menu flexibl apart vegetarian option ask could pair told unless similar tast dinner forget place', 'absolut perfect everi way love spend time harvest kitchen', 'harvest kitchen alway great place amaz food unfortun seem chang past month price gone qualiti portion size food drop reason think worth trip mani incred restaur area', 'delici enjoy would recommend would go back', 'dietari requir accommod tast menu coeliac diseas repercuss well look thank kitchen', 'love come back beauti set amaz food friendli servic thank', 'delici friendli accommod definit come back', 'food outstand servic excel local sourc delici', 'beauti wineri view servic food amaz would recommend come back', 'food season delici servic great attent not top view ambienc great well worth special meal', 'love view dine room balconi nice lawn area kid run chef choic beauti fresh fill wonder friendli wait staff knowledg tast staff must leisur lunch', 'beauti venu amaz view food delici staff love accommod also', 'delici food beauti green seren surround must visit barossa', 'go place barossa great locat great food great servic', 'usual standard excel', 'wonder servic food time visit thank', 'sometim left wait serv not fulli brief thing menu would serv us not list menu', 'food fresh vibrant ampl cater amazingli gf diner', 'outstand dine experi delici food perfectli size portion went feed eden option varieti dish choos still room dessert standout dish provid uniqu dine experi sweet corn rib salt caramel vanilla ice cream toffe popcorn dessert staff friendli prompt servic amazingli sunset', 'excel tabl servic love mix flavour portion size', 'amaz locat delici food except servic definit recommend', 'amaz tasti food well pace well portion remind waiter name fab', 'sceneri harvest kitchen sublim main waiter jame engag hospit food fresh ampl wonder dine experi', 'western australia second time come', 'book outdoor dine howev arriv told noth avail sent insid told anyth becom avail would shift front bar plenti traffic around sit minut two tabl clear outsid one not use time ask addit drink minut despit sever staff walk past multipl time food came not order say food excel', 'prais venu enough enjoy amaz meal eat like barossan drank local wine soak magnific view staff friendli welcom guest interst impress return great job guy compliment chef', 'steak part set menu extrem bloodi tough outsid everyth els amaz', 'amaz meal experi delici flavour cook perfect dog friendli patio tell dog book beauti outlook beanbag lawn relax busi well run well worth stop', 'take lot tour south australia wine region would one best restaur wineri state servic great staff wonder deal beauti view realli great place relax enjoy barossa offer', 'outsid fantast hot not windi day book outsid arriv told tabl howev said soon one becam avail would move us much appreci', 'waitress absolut amaz definit back', 'must visit anyon plan barossa experi', 'fantast food servic shame finish meal anoth tabl due follow book hr seat', 'fresh delici food compliment cheer attent servic set restaur ambianc love', 'outstand beauti food wine locat feed us like barossan experi like not share caus want seat avail book best kept secret valley', 'keep return food superb servic outstand view magnific thank make amaz dine experi', 'fantast wine food qualiti amaz complaint servic bit slow staff not attent could ask water twice hot day staff not ask want drink either thought odd', 'great take kid ate balconi play grass afterward per head menu delici kid menu also great amaz servic back sure', 'went feed like barossan option disappoint great select excel servic', 'servic amaz food delici mayb littl gener thing like pita bread etc', 'food love howev portion small atmospher surround love famili friendli staff attent help', 'initi greet ensu tabl servic excel food good would like meat dish great food intoler address well', 'look forward yearli lunch harvest kitchen never disappoint anyon know visit barossa valley encourag go rave review', 'wonder day celebr rd wed anniversari great weather sit deck look beauti sceneri ate like barossan realli enjoy everyth serv would happili return special occas futur', 'surpris find harvest kitchen menu not typic lunch interest dish dish brais hutton vale lamb tad bit salti like rest realli good especi corn rib yummm drop least ever barossa', 'great food great servic great atmospher', 'visit post xma place full vibe good sunni afternoon seat deck great want much warmer food good chef cours platter small deduct one cours squid quit hot enough flavour excel good local wine match calabrian cab sav stand', 'opt feed us like barossian couldnt actual distinguish differ normal menu everi serv normal menu serv size bit small group six', 'experi eat harvest kitchen amaz staff welcom cheer servic excel food fresh tasti', 'great set overlook vine toward tanunda food innov fresh staff friendli unobtrus also knowledg menu wine list back shortli', 'third visit year time brought new person not one disappoint thank', 'tasti food differ friendli servic great view balconi', 'alway amaz everytim book food amaz', 'great food excel wine list gorgeou view friendli staff wonder experi overal', 'food delici view beauti good valu', 'staff amaz help food outstand must visit', 'previous harvest kitchen realli realli enjoy thought would go enjoy servic great food ambienc quit rememb grant raini day time rather sunni freez cold restaur tabl realli pack food great dish not great time rare steak dish incred chewi struggl finish wine recommend also much heavier ask servic great though saw dish like someon els get ad feed like barossan menu good not good rememb though would perhap choos somewher els next time raini day definit restaur best enjoy sunni day outsid rose rather insid lack ambienc', 'food except would recommend anyon come dine expect food valu wine list also good littl confus go waiter waitress initi told one young ladi young gentleman tend young ladi afteral second drink order forgotten order overal servic friendli profession not well organ perhap could hand great food valu good servic overal hiccup', 'servic friendli effici well time cours outlook across vineyard restaur pleasant avail food vari delici appealingli serv enjoy calabria wine chardonnay riesl rose', 'absolut amaz unusu food beauti present', 'food portion feel like smaller use price gotten cheaper although qualiti still good food push bit quickli kitchen servic staff engag compar previou visit probabl not go rush back visit would go back point', 'delici food love set great servic fabul day', 'went daughter year old grandson accommod children puzzl etc select pp old vine shiraz reason price wine cannot fault food servic set penfold magil estat par half cost know respons day day run congratul', 'enjoy magnific lunch excel food although choos mayb one two cours need heck servic quietli done attent view alway great', 'amaz food excel servic wine nice', 'food amaz servic great venu stun could not fault', 'could not ask move food excel servic outstand', 'love restaur food superb enclos hot day understand noisi felt servic littl bit rush felt littl like cafeteria rather classi restaur', 'go enjoy fantast food whilst take fantast outlook', 'feed food delici right amount time cater non meat eater would def visit', 'great food custom servic excel valu money back', 'interst guest busi impress food amaz fault servic either run late issu staff happi accommod realli appreci', 'food outstand innov flavour present not fussi pretenti serv perfect size suffici not much love outlook vineyard veranda staff incred help welcom', 'great food friendli servic wonder set view', 'good food servic excel howev food took long time seat food finish come nearli pm good lunch slow lunch', 'spectacular coeliac nicest restaur meal long term absolut care dietari need', 'spectacular everi dish amaz everi singl one fed well like barossan servic great wine amaz absolut love', 'ador everyth place back highli recommend', 'harvest kitchen time alway enjoy food plu beauti sceneri birthday meal famili alway enjoy wine well', 'great meal harvest kitchen last night barossan chef make choic cours excel good choic wine staff friendli help', 'love night great way show barossa veiw definit back', 'sunset view vine would wonder except shower strong wind meal except', 'great good servic view alway great experi', 'never thought fed like barossan meant dish dish veget', 'love food varieti flavour great view coffe', 'love restaur book ask tabl window thrill arriv seat window tabl waiter elain absolut love help chose cours categori wonder favourit haloumi salad mushroom would love dessert full neg comment concern young man behind bar obvious stress restaur busi howev never smile person st greet smile would appreci', 'absolut delici food great servic beauti view one best place ever eaten', 'restaur must dine barossa run late rang advis accommod choic two menu excel parti late breakfast went lighter option good valu money wine mainli cellar good french champagn reason price birthday celebr beauti view ampl park new build clean toilet could not fault thank', 'food delici staff friendli knowledg rush serv push door enjoy experi', 'best food fresh great flavour excel valu money', 'amaz experi fabul food fabul servic fabul valu highli recommend', 'opt choos menu impress delici food air condit work littl warm stuffi howev waitress brought fan help love staff great opportun tast calabria wine well visit', 'brilliant love entir experi even provid doggi bag great two us sooo much food purchas bottl wine also delici unabl finish welcom take remaind home us one best dine experi time', 'wonder place excel food friendli servic beauti set would love come back not live uk', 'eat like barossan dinner gave us chanc enjoy lot local produc dish highli recommend would suggest offer wine pair complet experi staff excel view amaz take warm top chilli night balconi heater', 'recommend go harvest kitchen friend night ok servic lack', 'food fabul kept come take last cours home couldnt finish wait staff realli engag attent great knowledg dish serv beauti view particularli sun went nice relax atmospher second visit definit go great find place cater dietari requir cours vegan excel well done staff', 'fantast set feed menu lot interest tasti dish good valu staff realli engag friendli star', 'wonder food friendli staff valu money great wine list', 'excel view overlook vineyard old gum tree servic top level food scrumptiou love place', 'best valu fantast qualiti food recommend feed like barossan', 'weather could better decid extend lunch modern place normal beauti view vinyard barossa menu varieti differ delici dish nice present explain staff riesl also nice fresh', 'love view amaz food servic definit return summer snd sit outsid', 'worth drive yummi experi great', 'one best mediterranean meal ever good valu great staff would recommend back', 'wonder food experi overlook vineyard', 'went recommend tanunda visitor centr expect wow wonder food share plate chef choic refin good flavour great sceneri warm servic good price adapt dietey requir definit visit best experienc peopl per tabl', 'would recommend dine harvest kitchen food servic view amaz also wine must visit barossa', 'would like thank staff love time enjoy dinner immens', 'unimpress food everi cours serv cold fennel love season veg not thing everi cours total zero atmospher oppos last year disappoint experi te visit', 'experi absolut fantast food eat like barossian well pace fresh load flavor leav us satisfi without complet stuf restaur busi wait staff calm explain everyth give us time need consid amount varieti menu well price afford definit would go back', 'food excel staff friendli help hesit reloc us anoth tabl not use one prefer', 'best food vegetarian non vego cater superbl could not ask anyth differ servic equal excel', 'frequent visit harvest kitchen barossa alway outstand food line acid throughout dish outstand balanc salt fat sweet pair fresh veget meat stun price busi finess experienc food previous sometim slip servic alway fast friendli effici wonder place eat visit', 'delici food friendli staff happi accommod coeliac gluten free requir love set look across vineyard', 'group chose feed eden select food excel especi mushroom brussel sprout servic help attent issu noisi not sure weather peopl usual insid', 'delici food love servic would highli recommend', 'everi dish came amaz plate menu equal amaz', 'fantast food definit leav hungri feed option amaz valu view alway gorgeou', 'food delici set gorgeou definit back', 'except food great set excel servic one highlight barossa', 'first visit harvest kitchen privat wine tour friend excel servic friendli staff realli good tasti local produc impress', 'wonder experi harvest kitchen lunch deck overlook vine feed eden menu hard say five chosen dish best delici must return extend famili young children also well cater game provid lawn good children menu', 'wonder experi great food servic great cannot fault', 'awesom usual th time thoroughli enjoy experi everi time highli recommend', 'great experi love set great food highli recommend', 'enjoy meal unfortun restaur extrem loud mainli due larg book might better place function room', 'love restaur much return time noisi speak loud hear one anoth', 'excel servic great food substanti portion cater superbl major vegetarian group', 'love harvest kitchen beauti delici food recommend mani peopl individu desert much tho x', 'wonder way spend afternoon food invent great flavour feed like barossan food vari fresh highli recommend place', 'wonder dine experi barossa great food great servic even better valu highli recommend', 'group friend beauti time harvest kitchen food love combin flavour absolut amaz staff friendli made us feel welcom thank harvest kitchen definit back', 'absolut amaz food definit back', 'delici famili friendli incred servic', 'food worst restaur food ever expiercen servic terribl nois level made imposs chat valu joke per head rubbish food e tell ftiend never visit u', 'absolut wonder delici dine experi', 'outstand servic minut walk moment left fantast food back', 'wonder experi great valu money site love food except felt relax unrush food came regularli plenti highli recommend lazi saturday sunday afternoon', 'lunch four foodi absolut love one best food experi ever definit back', 'great food profession staff love view group thoroughli enjoy', 'tast fresh food divin could not stop rave exquisit', 'beauti food well made need complimentari bread mop juic dish bit small bread cours come complimentari', 'love locat good tasti food servic point highli recommend definetli go back', 'great afternoon barossa stuff kid amaz food young old thank', 'wonder food love locat pleasant servic', 'fantast meal choic wine good servic excel pleas custom great place dine highli recommend know back', 'amaz food staff came second time not disappoint', 'fantast experi usual great place take interst guest', 'great place eat sampl varieti local produc thoroughli enjoy food servic atmospher great place eat visit barossa', 'chose feed eden chose dish want cours food particular mullet delici', 'love food staff drink servic slow food runner offer drink remov empti glass would definit recommend though would return', 'staff food amaz cannot fault anyth awesom experi thank', 'beauti littl place enjoy wonder made lunch view everi dish tasti uniqu would definit recommend', 'love tasti food great venu staff great', 'great place visit consist great food staff alway accommod knowledg food drink select', 'food absolut amaz everi dish tasti master prepar highli recommend', 'absolut delici everi dish beauti craft realli flavoursom', 'staff unfortun understaf real shame tri keep everyth run track food usual amaz varieti local ingredi use interest way bread die', 'one favourit place eat south australia great job meet dietari requir make superb food back', 'share dish feed like barossan menu option beauti present simpli delici great attent servic good select wine ponder admir love view vine well worth trip', 'dish delici friend food allergi well cater', 'amaz food wonder servic great atmospher', 'amaz food beauti view great servic could want', 'freshest interest superbl delici meal creativ select combin tast blow palat apart', 'food amaz best ever highli recommend', 'incred food absolut outstand tabl close togeth could hear peopl convers food slow come view outstand staff love', 'absolut divin experi harvest food incred definit got money worth waitress susan dream help kind would come back heartbeat', 'everyth amaz staff attent meal delici time well love', 'delici food realli good wine great servic beauti locat', 'beauti locat food delici fresh servic excel', 'second visit harvest kitchen time feed like barossan menu idea would get gf parti adult kid love receiv overal relax lunch interest food great servic beauti view vineyard back', 'coupl stay tanunda day favourit meal long way not best flavour interest select best valu long way book ahead not miss amaz spot thank team harvest kitchen great lunch', 'feed menu impress qualiti overal present corn chunk thing die could bucket hummi', 'recommend us inform centr tanunda not let us good food good wine good servic enjoy lunch', 'local bought friend melbourn big shoe fill melbourn amaz place eat guy absolut nail come back next week friend melbourn see leann barker', 'eat like barossan go disappoint', 'food fabul went earli place pretti empti book put us right next pretti much occupi tabl whole place right outsid bathroom heap good food around probabl tri somewher els base disappoint servic', 'everi think ok room need colour dull colour less dine room bright green artifici plant hang basket would help vase tabl need someth place qualiti littl money need spent appear believ eat everi week around adelaid hill first impress import', 'great great great fact excel thank', 'left feel full brim satisfi would definit come back enjoy feed', 'went father day complet book littl noisi seat near door toilet not ideal posit howev food good made posit eat like barossian option everi singl dish outstand alreadi make plan go back', 'food delici servic great love waiter wait long food beauti view great vibe overal definit back', 'eat like barossian great spread nice select make sure pace lot cours', 'overal pleasant experi food absolut delici servic receiv everybodi except vegan vegetarian dish well made tasti shame allow sit outsid deck given beauti day made quit noisi insid', 'fabul fresh food wonder servic thank', 'beauti locat except servic excel food good select local wine go given chanc enjoy experi', 'beauti restaur delici food friendli servic go back', 'wonder dinner tre de except come back', 'food great staff attent busi found bit noisi view spectacular would recommend', 'great food wine great servic highli recommend', 'beauti food wine stun view love', 'amaz food servic wine recommend feed like barossan']\n"
          ]
        }
      ],
      "source": [
        "corpus = []\n",
        "for i in range(len(data)):\n",
        "    review = re.sub('[^a-zA-Z]', ' ', data['Review'][i])\n",
        "    review = review.lower()\n",
        "    review = review.split()\n",
        "    all_stopwords = stopwords.words('english')\n",
        "    all_stopwords.remove('not') \n",
        "    #remove negative word 'not' as it is closest word to help determine whether the review is good or not \n",
        "    review = [stemmer.stem(word) for word in review if not word in set(all_stopwords)]\n",
        "    review = ' '.join(review)\n",
        "    corpus.append(review)\n",
        "print(corpus)"
      ]
    },
    {
      "cell_type": "markdown",
      "metadata": {
        "id": "042zGK9sCYfC"
      },
      "source": [
        "# Create a Bag Of Words Model"
      ]
    },
    {
      "cell_type": "code",
      "execution_count": 9,
      "metadata": {
        "id": "GSvRLk4rCcOg"
      },
      "outputs": [],
      "source": [
        "from sklearn.feature_extraction.text import CountVectorizer\n",
        "cv = CountVectorizer(max_features = 1500)\n",
        "X = cv.fit_transform(corpus).toarray()\n",
        "y = data.iloc[:, -1].values"
      ]
    },
    {
      "cell_type": "code",
      "execution_count": 10,
      "metadata": {
        "id": "57NcwtH6VIfy"
      },
      "outputs": [],
      "source": [
        "import pickle\n",
        "# Creating a pickle file for the CountVectorizer\n",
        "pickle.dump(cv, open('countvector.pkl', 'wb'))"
      ]
    },
    {
      "cell_type": "markdown",
      "metadata": {
        "id": "mFp7YOMACrz5"
      },
      "source": [
        "# Train, Test Split"
      ]
    },
    {
      "cell_type": "code",
      "execution_count": 11,
      "metadata": {
        "id": "yD1MVLXDCuY-"
      },
      "outputs": [],
      "source": [
        "from sklearn.model_selection import train_test_split\n",
        "X_train, X_test, y_train, y_test = train_test_split(X, y, test_size = 0.20, random_state = 200)"
      ]
    },
    {
      "cell_type": "markdown",
      "metadata": {
        "id": "p7KNvJalC1i7"
      },
      "source": [
        "# Classifier Model Training"
      ]
    },
    {
      "cell_type": "markdown",
      "metadata": {
        "id": "b9y5w4EAOiKm"
      },
      "source": [
        "#### 1.Logistic Regression"
      ]
    },
    {
      "cell_type": "code",
      "execution_count": 12,
      "metadata": {
        "colab": {
          "base_uri": "https://localhost:8080/"
        },
        "id": "EDwPigty1xEf",
        "outputId": "27438c3a-94d7-43e2-8673-a6df33758128"
      },
      "outputs": [
        {
          "output_type": "stream",
          "name": "stdout",
          "text": [
            "[0.79787234 0.80851064 0.86170213 0.81914894 0.87096774 0.82795699\n",
            " 0.84946237 0.84946237 0.8172043  0.86021505 0.82795699 0.82795699]\n",
            "83.4868069854343\n",
            "\n",
            "\n",
            "[[ 86  22]\n",
            " [ 26 146]]\n",
            "\n",
            "\n",
            "Accuracy of Logistic Regression:  82.86 %\n",
            "Precision:  0.87\n",
            "Recall:  0.85\n"
          ]
        }
      ],
      "source": [
        "#Logistic Regression\n",
        "lr = LogisticRegression(C=1.5, max_iter=2000, solver='lbfgs')\n",
        "cv = cross_val_score(lr,X_train,y_train,cv=kfold)\n",
        "print(cv)\n",
        "print(cv.mean()*100)\n",
        "lr.fit(X_train,y_train)\n",
        "y_pred_lr=lr.predict(X_test)\n",
        "cm=confusion_matrix(y_test, y_pred_lr)\n",
        "print(\"\\n\")\n",
        "print(cm)\n",
        "\n",
        "score1 = accuracy_score(y_test,y_pred_lr)\n",
        "score2 = precision_score(y_test,y_pred_lr)\n",
        "score3= recall_score(y_test,y_pred_lr)\n",
        "\n",
        "print(\"\\n\")\n",
        "print(\"Accuracy of Logistic Regression: \",round(score1*100,2),\"%\")\n",
        "print(\"Precision: \",round(score2,2))\n",
        "print(\"Recall: \",round(score3,2))\n"
      ]
    },
    {
      "cell_type": "markdown",
      "metadata": {
        "id": "YlBQEY1W8dwk"
      },
      "source": [
        "#### 2.Naive Bayes"
      ]
    },
    {
      "cell_type": "code",
      "execution_count": 13,
      "metadata": {
        "colab": {
          "base_uri": "https://localhost:8080/"
        },
        "id": "d1Mvyw3mDg8T",
        "outputId": "7c0e68ec-e9c4-4324-9935-812d28c7580d"
      },
      "outputs": [
        {
          "output_type": "stream",
          "name": "stdout",
          "text": [
            "[0.76595745 0.77659574 0.78723404 0.80851064 0.80645161 0.77419355\n",
            " 0.74193548 0.87096774 0.79569892 0.76344086 0.74193548 0.69892473]\n",
            "77.76538549530999\n",
            "\n",
            "\n",
            "[[ 81  27]\n",
            " [ 52 120]]\n",
            "\n",
            "\n",
            "Accuracy of Gaussian NB:  71.79 %\n",
            "Precision:  0.82\n",
            "Recall:  0.7\n"
          ]
        }
      ],
      "source": [
        "#GaussianNB\n",
        "gnb = GaussianNB(var_smoothing=1e-2)\n",
        "cv = cross_val_score(gnb,X_train,y_train,cv=kfold)\n",
        "print(cv)\n",
        "print(cv.mean()*100)\n",
        "gnb.fit(X_train,y_train)\n",
        "y_pred_gnb=gnb.predict(X_test)\n",
        "cm=confusion_matrix(y_test, y_pred_gnb)\n",
        "print(\"\\n\")\n",
        "print(cm)\n",
        "\n",
        "score1 = accuracy_score(y_test,y_pred_gnb)\n",
        "score2 = precision_score(y_test,y_pred_gnb)\n",
        "score3= recall_score(y_test,y_pred_gnb)\n",
        "\n",
        "print(\"\\n\")\n",
        "print(\"Accuracy of Gaussian NB: \",round(score1*100,2),\"%\")\n",
        "print(\"Precision: \",round(score2,2))\n",
        "print(\"Recall: \",round(score3,2))"
      ]
    },
    {
      "cell_type": "markdown",
      "metadata": {
        "id": "j1MoVeZi0obS"
      },
      "source": [
        "#### 3.Random Forest Classifier"
      ]
    },
    {
      "cell_type": "code",
      "execution_count": 14,
      "metadata": {
        "colab": {
          "base_uri": "https://localhost:8080/"
        },
        "id": "_Cq5XABaUJQ4",
        "outputId": "3a275d74-e5ad-4116-de14-fef82f2a77fe"
      },
      "outputs": [
        {
          "output_type": "stream",
          "name": "stdout",
          "text": [
            "[0.68085106 0.64893617 0.71276596 0.72340426 0.68817204 0.67741935\n",
            " 0.7311828  0.70967742 0.67741935 0.72043011 0.69892473 0.75268817]\n",
            "70.18226187752612\n",
            "\n",
            "\n",
            "[[ 23  85]\n",
            " [  1 171]]\n",
            "\n",
            "\n",
            "Accuracy of Random Forest Classifier:  69.29 %\n",
            "Precision:  0.67\n",
            "Recall:  0.99\n"
          ]
        }
      ],
      "source": [
        "#Random Forest Classifier\n",
        "rf = RandomForestClassifier(bootstrap=False, criterion='entropy', max_depth=30,\n",
        "                       max_features='log2', min_samples_leaf=2,\n",
        "                       n_estimators=501)\n",
        "rf.fit(X_train, y_train)\n",
        "cv = cross_val_score(rf,X_train,y_train,cv=kfold)\n",
        "print(cv)\n",
        "print(cv.mean()*100)\n",
        "y_pred_rf = rf.predict(X_test)\n",
        "cm=confusion_matrix(y_test, y_pred_rf)\n",
        "print(\"\\n\")\n",
        "print(cm)\n",
        "\n",
        "score1 = accuracy_score(y_test,y_pred_rf)\n",
        "score2 = precision_score(y_test,y_pred_rf)\n",
        "score3= recall_score(y_test,y_pred_rf)\n",
        "\n",
        "print(\"\\n\")\n",
        "print(\"Accuracy of Random Forest Classifier: \",round(score1*100,2),\"%\")\n",
        "print(\"Precision: \",round(score2,2))\n",
        "print(\"Recall: \",round(score3,2))"
      ]
    },
    {
      "cell_type": "markdown",
      "metadata": {
        "id": "OnRFzhnUOmQM"
      },
      "source": [
        "#### 4.SVC"
      ]
    },
    {
      "cell_type": "code",
      "execution_count": 15,
      "metadata": {
        "colab": {
          "base_uri": "https://localhost:8080/"
        },
        "id": "ViFAVMbNMTw7",
        "outputId": "879ae685-a4c2-4ada-c932-2c1946b1097b"
      },
      "outputs": [
        {
          "output_type": "stream",
          "name": "stdout",
          "text": [
            "[0.73404255 0.75531915 0.85106383 0.80851064 0.84946237 0.80645161\n",
            " 0.83870968 0.80645161 0.82795699 0.88172043 0.80645161 0.79569892]\n",
            "81.34866163349346\n",
            "\n",
            "\n",
            "[[ 82  26]\n",
            " [ 24 148]]\n",
            "\n",
            "\n",
            "Accuracy of rbf_SVC:  82.14 %\n",
            "Precision:  0.85\n",
            "Recall:  0.86\n"
          ]
        }
      ],
      "source": [
        "#rbf SVC\n",
        "from sklearn.svm import SVC\n",
        "svck = SVC(kernel = 'rbf', random_state = 0, probability=True)\n",
        "svck.fit(X_train, y_train)\n",
        "cv = cross_val_score(svck,X_train,y_train,cv=kfold)\n",
        "print(cv)\n",
        "print(cv.mean()*100)\n",
        "y_pred_svck = svck.predict(X_test)\n",
        "cm=confusion_matrix(y_test, y_pred_svck)\n",
        "print(\"\\n\")\n",
        "print(cm)\n",
        "\n",
        "score1 = accuracy_score(y_test,y_pred_svck)\n",
        "score2 = precision_score(y_test,y_pred_svck)\n",
        "score3= recall_score(y_test,y_pred_svck)\n",
        "\n",
        "print(\"\\n\")\n",
        "print(\"Accuracy of rbf_SVC: \",round(score1*100,2),\"%\")\n",
        "print(\"Precision: \",round(score2,2))\n",
        "print(\"Recall: \",round(score3,2))"
      ]
    },
    {
      "cell_type": "markdown",
      "metadata": {
        "id": "VmeG0RL81xE5"
      },
      "source": [
        "#### Voting Classifier"
      ]
    },
    {
      "cell_type": "code",
      "execution_count": 16,
      "metadata": {
        "colab": {
          "base_uri": "https://localhost:8080/"
        },
        "id": "fBd2eS8X1xE8",
        "outputId": "1082b5c7-3306-4a87-f581-6ae655912b39"
      },
      "outputs": [
        {
          "output_type": "stream",
          "name": "stdout",
          "text": [
            "[0.77659574 0.80851064 0.86170213 0.82978723 0.82795699 0.83870968\n",
            " 0.80645161 0.89247312 0.89247312 0.82795699 0.8172043  0.79569892]\n",
            "83.1293372988637\n",
            "\n",
            "\n",
            "[[ 82  26]\n",
            " [ 27 145]]\n",
            "              precision    recall  f1-score   support\n",
            "\n",
            "           0       0.75      0.76      0.76       108\n",
            "           1       0.85      0.84      0.85       172\n",
            "\n",
            "    accuracy                           0.81       280\n",
            "   macro avg       0.80      0.80      0.80       280\n",
            "weighted avg       0.81      0.81      0.81       280\n",
            "\n"
          ]
        }
      ],
      "source": [
        "#VCLF \n",
        "voting_clf = VotingClassifier(estimators = [('lr', lr),('gnb', gnb),\n",
        "                                            ('rf',rf),('svck',svck)], voting = 'soft') \n",
        "voting_clf.fit(X_train, y_train)\n",
        "cv = cross_val_score(voting_clf,X_train,y_train,cv=kfold)\n",
        "print(cv)\n",
        "print(cv.mean()*100)\n",
        "y_pred_vclf = voting_clf.predict(X_test)\n",
        "cm=confusion_matrix(y_test, y_pred_vclf)\n",
        "print(\"\\n\")\n",
        "print(cm)\n",
        "print(classification_report(y_test, y_pred_vclf))"
      ]
    },
    {
      "cell_type": "code",
      "execution_count": 17,
      "metadata": {
        "id": "K2aWQHf3VIf5"
      },
      "outputs": [],
      "source": [
        "# Creating a pickle file for the Multinomial Naive Bayes model\n",
        "filename = 'voting_clf.pkl'\n",
        "pickle.dump(voting_clf, open(filename, 'wb'))"
      ]
    }
  ],
  "metadata": {
    "colab": {
      "provenance": []
    },
    "kernelspec": {
      "display_name": "Python 3",
      "language": "python",
      "name": "python3"
    },
    "language_info": {
      "codemirror_mode": {
        "name": "ipython",
        "version": 3
      },
      "file_extension": ".py",
      "mimetype": "text/x-python",
      "name": "python",
      "nbconvert_exporter": "python",
      "pygments_lexer": "ipython3",
      "version": "3.6.12"
    }
  },
  "nbformat": 4,
  "nbformat_minor": 0
}